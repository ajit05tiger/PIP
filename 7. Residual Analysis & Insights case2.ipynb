{
 "cells": [
  {
   "cell_type": "code",
   "execution_count": 1,
   "id": "e0a26162",
   "metadata": {},
   "outputs": [],
   "source": [
    "import pandas as pd\n",
    "import numpy as np\n",
    "import seaborn as sns\n",
    "import matplotlib.pyplot as plt\n",
    "%matplotlib inline\n",
    "from scipy import stats\n",
    "import os\n",
    "import glob\n",
    "from sklearn.utils import resample\n",
    "from sklearn.linear_model import LogisticRegression\n",
    "from sklearn.tree import DecisionTreeClassifier\n",
    "from sklearn.ensemble import RandomForestClassifier\n",
    "from sklearn.metrics import confusion_matrix, accuracy_score, classification_report, roc_auc_score, plot_roc_curve\n",
    "# pip install xgboost\n",
    "from xgboost import XGBClassifier\n",
    "from sklearn.model_selection import GridSearchCV\n",
    "from sklearn import tree\n",
    "# !pip install graphviz\n",
    "# !pip install pydotplus\n",
    "# conda install graphviz\n",
    "from six import StringIO\n",
    "from sklearn import metrics"
   ]
  },
  {
   "cell_type": "markdown",
   "id": "5cdc9b98",
   "metadata": {},
   "source": [
    "# # Data Preparation:"
   ]
  },
  {
   "cell_type": "markdown",
   "id": "9cf19b56",
   "metadata": {},
   "source": [
    "### 1. Data Creation"
   ]
  },
  {
   "cell_type": "markdown",
   "id": "0ca9352c",
   "metadata": {},
   "source": [
    "#### # Creating empty main csv file with all features name"
   ]
  },
  {
   "cell_type": "code",
   "execution_count": 2,
   "id": "c09a22f6",
   "metadata": {},
   "outputs": [
    {
     "data": {
      "text/html": [
       "<div>\n",
       "<style scoped>\n",
       "    .dataframe tbody tr th:only-of-type {\n",
       "        vertical-align: middle;\n",
       "    }\n",
       "\n",
       "    .dataframe tbody tr th {\n",
       "        vertical-align: top;\n",
       "    }\n",
       "\n",
       "    .dataframe thead th {\n",
       "        text-align: right;\n",
       "    }\n",
       "</style>\n",
       "<table border=\"1\" class=\"dataframe\">\n",
       "  <thead>\n",
       "    <tr style=\"text-align: right;\">\n",
       "      <th></th>\n",
       "      <th>name</th>\n",
       "      <th>activity</th>\n",
       "      <th>weight</th>\n",
       "      <th>duration</th>\n",
       "      <th>start_time</th>\n",
       "      <th>change_in_load</th>\n",
       "      <th>variance</th>\n",
       "      <th>maximum</th>\n",
       "      <th>median</th>\n",
       "      <th>skewness</th>\n",
       "      <th>kurtosis</th>\n",
       "      <th>0.9_quantile</th>\n",
       "      <th>acceleration</th>\n",
       "      <th>jerk</th>\n",
       "      <th>velocity</th>\n",
       "      <th>energy</th>\n",
       "      <th>power</th>\n",
       "      <th>momentum</th>\n",
       "    </tr>\n",
       "  </thead>\n",
       "  <tbody>\n",
       "  </tbody>\n",
       "</table>\n",
       "</div>"
      ],
      "text/plain": [
       "Empty DataFrame\n",
       "Columns: [name, activity, weight, duration, start_time, change_in_load, variance, maximum, median, skewness, kurtosis, 0.9_quantile, acceleration, jerk, velocity, energy, power, momentum]\n",
       "Index: []"
      ]
     },
     "execution_count": 2,
     "metadata": {},
     "output_type": "execute_result"
    }
   ],
   "source": [
    "df_main1 = pd.DataFrame(columns = ['name' ,'activity' ,'weight', 'duration','start_time' ,'change_in_load', 'variance',  'maximum', 'median', 'skewness', 'kurtosis', '0.9_quantile', 'acceleration', 'jerk', 'velocity', 'energy', 'power', 'momentum'])\n",
    "df_main1"
   ]
  },
  {
   "cell_type": "markdown",
   "id": "af4a099b",
   "metadata": {},
   "source": [
    "#### # Creating a function of value incertion in main csv file"
   ]
  },
  {
   "cell_type": "code",
   "execution_count": 3,
   "id": "f908f2d0",
   "metadata": {},
   "outputs": [],
   "source": [
    "def value_insertion(loc_csv):\n",
    "    df=pd.read_csv(loc_csv)\n",
    "#     print(loc_csv)    # Print this if you want to track which folder is running while running the code\n",
    "    df_main1.loc[len(df_main1.index)] = [df['name'][0], df['activity'][0], df['weight'][0], df['timestamp'][len(df)-1], df['start_time'][0], df['diff_load_sum'].mean(), df['diff_load_sum'].var(), df['diff_load_sum'].max(), df['diff_load_sum'].median(), df['diff_load_sum'].skew(), df['diff_load_sum'].kurtosis(), df['diff_load_sum'].quantile(0.9), df['acc'].mean(), df['jerk'].mean(), df['velo'].mean(), df['enr'].mean(), df['power'].mean(), df['mom'].mean()]\n",
    "    return df_main1"
   ]
  },
  {
   "cell_type": "markdown",
   "id": "28573382",
   "metadata": {},
   "source": [
    "#### # Creating a list with all folder's name"
   ]
  },
  {
   "cell_type": "code",
   "execution_count": 4,
   "id": "2d9afbc0",
   "metadata": {},
   "outputs": [],
   "source": [
    "rootdir = \"D:/Ajit/pip/sample_labeled9\"\n",
    "folder_list = []\n",
    "for subdir, dirs, files in os.walk(rootdir):\n",
    "    folder_list.append(subdir)\n",
    "del folder_list[0]"
   ]
  },
  {
   "cell_type": "markdown",
   "id": "64847a10",
   "metadata": {},
   "source": [
    "#### # Value insertion in main csv file"
   ]
  },
  {
   "cell_type": "code",
   "execution_count": 5,
   "id": "64eeabb0",
   "metadata": {
    "scrolled": true
   },
   "outputs": [],
   "source": [
    "i=0\n",
    "for folder in folder_list:\n",
    "    path=folder\n",
    "    for filename in os.listdir(path):\n",
    "        x=path+'/'+filename\n",
    "#         print(i)    # Print this if you want to track which folder is running while running the code\n",
    "        value_insertion(x)\n",
    "        i+=1"
   ]
  },
  {
   "cell_type": "code",
   "execution_count": 100,
   "id": "2989c504",
   "metadata": {},
   "outputs": [],
   "source": [
    "# Taking backup of loaded dataset as 'df_main1'\n",
    "df_main=df_main1.copy()"
   ]
  },
  {
   "cell_type": "markdown",
   "id": "af32dd66",
   "metadata": {},
   "source": [
    "#### # Rows with only 'Urination' and 'Defication'"
   ]
  },
  {
   "cell_type": "code",
   "execution_count": 101,
   "id": "8801b4e8",
   "metadata": {},
   "outputs": [],
   "source": [
    "df_main=df_main[df_main['activity']!='non_elimination']"
   ]
  },
  {
   "cell_type": "code",
   "execution_count": 102,
   "id": "19462691",
   "metadata": {},
   "outputs": [
    {
     "data": {
      "text/plain": [
       "(8929, 18)"
      ]
     },
     "execution_count": 102,
     "metadata": {},
     "output_type": "execute_result"
    }
   ],
   "source": [
    "df_main.shape"
   ]
  },
  {
   "cell_type": "markdown",
   "id": "c03842a1",
   "metadata": {},
   "source": [
    "### 2. Data cleaning and Outlier removal"
   ]
  },
  {
   "cell_type": "code",
   "execution_count": 103,
   "id": "7c3d5e29",
   "metadata": {},
   "outputs": [
    {
     "data": {
      "text/plain": [
       "(8785, 18)"
      ]
     },
     "execution_count": 103,
     "metadata": {},
     "output_type": "execute_result"
    }
   ],
   "source": [
    "# Replacing NaN Name as 'unknown'\n",
    "df_main['name'].fillna('unknown',inplace=True)\n",
    "\n",
    "# Dropping NaN Rows \n",
    "df_main.dropna(inplace=True)\n",
    "\n",
    "# Dropping rows with weight less than 1kg and more than 8kg\n",
    "df_main=df_main[(df_main['weight']>1000) & (df_main['weight']<8000)]\n",
    "\n",
    "# Activity \"duration\" \n",
    "df_main=df_main[~((df_main['activity']=='defecation') & (df_main['duration']>450))]\n",
    "df_main=df_main[~((df_main['activity']=='urination') & (df_main['duration']>400))]\n",
    "\n",
    "# \"Change in load\" \n",
    "df_main=df_main[~((df_main['activity']=='defecation') & (df_main['change_in_load']>1.8))]\n",
    "df_main=df_main[~((df_main['activity']=='urination') & (df_main['change_in_load']>1.5))]\n",
    "\n",
    "# 'Variance' \n",
    "df_main=df_main[~((df_main['activity']=='defecation') & (df_main['variance']>8))]\n",
    "df_main=df_main[~((df_main['activity']=='urination') & (df_main['variance']>7))]\n",
    "\n",
    "# 'Skewness' \n",
    "df_main=df_main[~((df_main['activity']=='defecation') & (df_main['skewness']>10))]\n",
    "df_main=df_main[~((df_main['activity']=='urination') & (df_main['skewness']>12))]\n",
    "\n",
    "# 'Acceleration' \n",
    "df_main=df_main[~((df_main['activity']=='defecation') & (df_main['acceleration']>0.41))]\n",
    "df_main=df_main[~((df_main['activity']=='urination') & (df_main['acceleration']>0.34))]\n",
    "\n",
    "# 'Jerk' \n",
    "df_main=df_main[~((df_main['activity']=='defecation') & (df_main['jerk']>7))]\n",
    "df_main=df_main[~((df_main['activity']=='urination') & (df_main['jerk']>5.8))]\n",
    "\n",
    "# 'Velocity'\n",
    "df_main=df_main[~((df_main['activity']=='defecation') & (df_main['velocity']>45))]\n",
    "df_main=df_main[~((df_main['activity']=='urination') & (df_main['velocity']>34))]\n",
    "\n",
    "# 'Energy' \n",
    "df_main=df_main[~((df_main['activity']=='defecation') & (df_main['energy']>5000))]\n",
    "df_main=df_main[~((df_main['activity']=='urination') & (df_main['energy']>3000))]\n",
    "\n",
    "# 'Power' \n",
    "df_main=df_main[~((df_main['activity']=='defecation') & (df_main['power']>47))]\n",
    "df_main=df_main[~((df_main['activity']=='urination') & (df_main['power']>27))]\n",
    "\n",
    "# 'Momentum' \n",
    "df_main=df_main[~((df_main['activity']=='defecation') & (df_main['momentum']>195))]\n",
    "df_main=df_main[~((df_main['activity']=='urination') & (df_main['momentum']>135))]\n",
    "\n",
    "df_main=df_main[~((df_main['activity']=='defecation') & (df_main['energy']>4500))]\n",
    "\n",
    "df_main.shape"
   ]
  },
  {
   "cell_type": "markdown",
   "id": "df9b295f",
   "metadata": {},
   "source": [
    "### 3. Final Data"
   ]
  },
  {
   "cell_type": "code",
   "execution_count": 104,
   "id": "19fa10a1",
   "metadata": {},
   "outputs": [
    {
     "data": {
      "text/html": [
       "<div>\n",
       "<style scoped>\n",
       "    .dataframe tbody tr th:only-of-type {\n",
       "        vertical-align: middle;\n",
       "    }\n",
       "\n",
       "    .dataframe tbody tr th {\n",
       "        vertical-align: top;\n",
       "    }\n",
       "\n",
       "    .dataframe thead th {\n",
       "        text-align: right;\n",
       "    }\n",
       "</style>\n",
       "<table border=\"1\" class=\"dataframe\">\n",
       "  <thead>\n",
       "    <tr style=\"text-align: right;\">\n",
       "      <th></th>\n",
       "      <th>duration</th>\n",
       "      <th>change_in_load</th>\n",
       "      <th>median</th>\n",
       "      <th>skewness</th>\n",
       "      <th>acceleration</th>\n",
       "      <th>jerk</th>\n",
       "      <th>energy</th>\n",
       "      <th>power</th>\n",
       "      <th>momentum</th>\n",
       "      <th>activity_urination</th>\n",
       "    </tr>\n",
       "  </thead>\n",
       "  <tbody>\n",
       "    <tr>\n",
       "      <th>0</th>\n",
       "      <td>163.975000</td>\n",
       "      <td>1.114670</td>\n",
       "      <td>0.43164</td>\n",
       "      <td>2.088879</td>\n",
       "      <td>0.160777</td>\n",
       "      <td>2.623752</td>\n",
       "      <td>1422.404601</td>\n",
       "      <td>14.699895</td>\n",
       "      <td>129.161654</td>\n",
       "      <td>0</td>\n",
       "    </tr>\n",
       "    <tr>\n",
       "      <th>1</th>\n",
       "      <td>204.774940</td>\n",
       "      <td>0.996088</td>\n",
       "      <td>0.32373</td>\n",
       "      <td>2.502551</td>\n",
       "      <td>0.154408</td>\n",
       "      <td>2.854197</td>\n",
       "      <td>1626.238512</td>\n",
       "      <td>15.753942</td>\n",
       "      <td>129.217548</td>\n",
       "      <td>0</td>\n",
       "    </tr>\n",
       "    <tr>\n",
       "      <th>2</th>\n",
       "      <td>59.975000</td>\n",
       "      <td>0.292591</td>\n",
       "      <td>0.05886</td>\n",
       "      <td>2.892435</td>\n",
       "      <td>0.040413</td>\n",
       "      <td>0.638543</td>\n",
       "      <td>13.463229</td>\n",
       "      <td>0.355113</td>\n",
       "      <td>12.974780</td>\n",
       "      <td>0</td>\n",
       "    </tr>\n",
       "    <tr>\n",
       "      <th>3</th>\n",
       "      <td>156.775000</td>\n",
       "      <td>0.952895</td>\n",
       "      <td>0.23544</td>\n",
       "      <td>2.385345</td>\n",
       "      <td>0.133758</td>\n",
       "      <td>2.379447</td>\n",
       "      <td>898.360000</td>\n",
       "      <td>9.996573</td>\n",
       "      <td>101.825709</td>\n",
       "      <td>0</td>\n",
       "    </tr>\n",
       "    <tr>\n",
       "      <th>4</th>\n",
       "      <td>183.974939</td>\n",
       "      <td>1.174555</td>\n",
       "      <td>0.14715</td>\n",
       "      <td>2.486553</td>\n",
       "      <td>0.164273</td>\n",
       "      <td>2.929181</td>\n",
       "      <td>2029.562636</td>\n",
       "      <td>17.758225</td>\n",
       "      <td>153.431382</td>\n",
       "      <td>0</td>\n",
       "    </tr>\n",
       "  </tbody>\n",
       "</table>\n",
       "</div>"
      ],
      "text/plain": [
       "     duration  change_in_load   median  skewness  acceleration      jerk  \\\n",
       "0  163.975000        1.114670  0.43164  2.088879      0.160777  2.623752   \n",
       "1  204.774940        0.996088  0.32373  2.502551      0.154408  2.854197   \n",
       "2   59.975000        0.292591  0.05886  2.892435      0.040413  0.638543   \n",
       "3  156.775000        0.952895  0.23544  2.385345      0.133758  2.379447   \n",
       "4  183.974939        1.174555  0.14715  2.486553      0.164273  2.929181   \n",
       "\n",
       "        energy      power    momentum  activity_urination  \n",
       "0  1422.404601  14.699895  129.161654                   0  \n",
       "1  1626.238512  15.753942  129.217548                   0  \n",
       "2    13.463229   0.355113   12.974780                   0  \n",
       "3   898.360000   9.996573  101.825709                   0  \n",
       "4  2029.562636  17.758225  153.431382                   0  "
      ]
     },
     "execution_count": 104,
     "metadata": {},
     "output_type": "execute_result"
    }
   ],
   "source": [
    "# Onehot encoding\n",
    "df_main=pd.get_dummies(df_main, columns=['activity'])\n",
    "\n",
    "# Droping non numeric columns\n",
    "df_main.drop(['name', 'start_time', 'activity_defecation'], axis=1, inplace=True)\n",
    "\n",
    "# Dropping 'Weight' column as there are no variation shown across activities in boxplot of final EDA\n",
    "df_main.drop(['weight'], axis=1, inplace=True)\n",
    "\n",
    "### Deleting 'kurtosis', 'variance', 'maximum', 'velocity', '0.9_quantile' columns as a result of Backward elimination in modelling\n",
    "df_main.drop(['kurtosis', 'variance', 'maximum', 'velocity', '0.9_quantile'], axis=1, inplace=True)\n",
    "df_main.head()"
   ]
  },
  {
   "cell_type": "code",
   "execution_count": 105,
   "id": "c84ac2a9",
   "metadata": {},
   "outputs": [
    {
     "data": {
      "text/plain": [
       "Index(['duration', 'change_in_load', 'median', 'skewness', 'acceleration',\n",
       "       'jerk', 'energy', 'power', 'momentum', 'activity_urination'],\n",
       "      dtype='object')"
      ]
     },
     "execution_count": 105,
     "metadata": {},
     "output_type": "execute_result"
    }
   ],
   "source": [
    "df_main.columns"
   ]
  },
  {
   "cell_type": "markdown",
   "id": "9a842cec",
   "metadata": {},
   "source": [
    "### 4. Upsampling"
   ]
  },
  {
   "cell_type": "code",
   "execution_count": 106,
   "id": "21fc5082",
   "metadata": {},
   "outputs": [],
   "source": [
    "df_majority = df_main[df_main.activity_urination==1]\n",
    "df_minority = df_main[df_main.activity_urination==0]\n",
    "\n",
    "df_upsampled = resample(df_minority, replace=True, n_samples=len(df_majority), random_state=0)\n",
    "\n",
    "df_main = pd.concat([df_majority, df_upsampled])"
   ]
  },
  {
   "cell_type": "markdown",
   "id": "9d8e57d1",
   "metadata": {},
   "source": [
    "# # Modelling"
   ]
  },
  {
   "cell_type": "markdown",
   "id": "c187dec7",
   "metadata": {},
   "source": [
    "### Data splitting to train, test and validation"
   ]
  },
  {
   "cell_type": "code",
   "execution_count": 107,
   "id": "314da950",
   "metadata": {},
   "outputs": [],
   "source": [
    "df_shuffeled=df_main.sample(frac=1,random_state=101)\n",
    "\n",
    "df_train=df_shuffeled[:int(len(df_shuffeled)*0.6)]\n",
    "df_validate=df_shuffeled[int(len(df_shuffeled)*.6):int(len(df_shuffeled)*0.8)]\n",
    "df_test=df_shuffeled[int(len(df_shuffeled)*0.8):]\n",
    "\n",
    "\n",
    "x_train = df_train.drop(columns='activity_urination')\n",
    "y_train = df_train['activity_urination']\n",
    "\n",
    "x_validate = df_validate.drop(columns='activity_urination')\n",
    "y_validate = df_validate['activity_urination']\n",
    "\n",
    "x_test = df_test.drop(columns='activity_urination')\n",
    "y_test = df_test['activity_urination']"
   ]
  },
  {
   "cell_type": "markdown",
   "id": "a00e065a",
   "metadata": {},
   "source": [
    "### Modelling Using Random Forest (Best performance)"
   ]
  },
  {
   "cell_type": "code",
   "execution_count": 108,
   "id": "555f8a57",
   "metadata": {},
   "outputs": [],
   "source": [
    "def error_metrics(actual, predicted, x_data):\n",
    "    print('Accuracy %age: ' + str(np.round(accuracy_score(actual, predicted)*100,2)))\n",
    "    print('ROC-AUC Score: ' + str(np.round(roc_auc_score(actual, classifier.predict_proba(x_data)[:,1]),2)))\n",
    "    print('\\nClassification Report: ')\n",
    "    print(classification_report(actual, predicted))\n",
    "    print('\\nConfusion Matrix: ')\n",
    "    print(confusion_matrix(actual, predicted))\n",
    "    return 'Done'"
   ]
  },
  {
   "cell_type": "markdown",
   "id": "9253e840",
   "metadata": {},
   "source": [
    "#### Training Set"
   ]
  },
  {
   "cell_type": "code",
   "execution_count": 109,
   "id": "a9d1d98e",
   "metadata": {},
   "outputs": [
    {
     "name": "stdout",
     "output_type": "stream",
     "text": [
      "\n",
      "Training\n",
      "--------------------------\n",
      "Accuracy %age: 99.99\n",
      "ROC-AUC Score: 1.0\n",
      "\n",
      "Classification Report: \n",
      "              precision    recall  f1-score   support\n",
      "\n",
      "           0       1.00      1.00      1.00      3938\n",
      "           1       1.00      1.00      1.00      3898\n",
      "\n",
      "    accuracy                           1.00      7836\n",
      "   macro avg       1.00      1.00      1.00      7836\n",
      "weighted avg       1.00      1.00      1.00      7836\n",
      "\n",
      "\n",
      "Confusion Matrix: \n",
      "[[3937    1]\n",
      " [   0 3898]]\n"
     ]
    },
    {
     "data": {
      "text/plain": [
       "'Done'"
      ]
     },
     "execution_count": 109,
     "metadata": {},
     "output_type": "execute_result"
    }
   ],
   "source": [
    "classifier = RandomForestClassifier(n_estimators=55, criterion='entropy',max_depth =35, random_state=10)\n",
    "classifier.fit(x_train, y_train)\n",
    "\n",
    "print('\\nTraining\\n--------------------------')\n",
    "y_train_pred=classifier.predict(x_train)\n",
    "error_metrics(y_train, y_train_pred, x_train)"
   ]
  },
  {
   "cell_type": "markdown",
   "id": "1c83c679",
   "metadata": {},
   "source": [
    "#### Validation Set"
   ]
  },
  {
   "cell_type": "code",
   "execution_count": 110,
   "id": "c932e7a8",
   "metadata": {},
   "outputs": [
    {
     "name": "stdout",
     "output_type": "stream",
     "text": [
      "\n",
      "Validation\n",
      "--------------------------\n",
      "Accuracy %age: 91.16\n",
      "ROC-AUC Score: 0.97\n",
      "\n",
      "Classification Report: \n",
      "              precision    recall  f1-score   support\n",
      "\n",
      "           0       0.87      0.96      0.92      1315\n",
      "           1       0.96      0.86      0.91      1297\n",
      "\n",
      "    accuracy                           0.91      2612\n",
      "   macro avg       0.92      0.91      0.91      2612\n",
      "weighted avg       0.92      0.91      0.91      2612\n",
      "\n",
      "\n",
      "Confusion Matrix: \n",
      "[[1267   48]\n",
      " [ 183 1114]]\n"
     ]
    },
    {
     "data": {
      "text/plain": [
       "'Done'"
      ]
     },
     "execution_count": 110,
     "metadata": {},
     "output_type": "execute_result"
    }
   ],
   "source": [
    "print('\\nValidation\\n--------------------------')\n",
    "y_validate_pred=classifier.predict(x_validate)\n",
    "error_metrics(y_validate, y_validate_pred, x_validate)"
   ]
  },
  {
   "cell_type": "markdown",
   "id": "daa6ed12",
   "metadata": {},
   "source": [
    "#### Test Set"
   ]
  },
  {
   "cell_type": "code",
   "execution_count": 111,
   "id": "0811e1ca",
   "metadata": {},
   "outputs": [
    {
     "name": "stdout",
     "output_type": "stream",
     "text": [
      "\n",
      "Testing\n",
      "--------------------------\n",
      "Accuracy %age: 91.16\n",
      "ROC-AUC Score: 0.97\n",
      "\n",
      "Classification Report: \n",
      "              precision    recall  f1-score   support\n",
      "\n",
      "           0       0.88      0.95      0.91      1277\n",
      "           1       0.95      0.87      0.91      1335\n",
      "\n",
      "    accuracy                           0.91      2612\n",
      "   macro avg       0.91      0.91      0.91      2612\n",
      "weighted avg       0.91      0.91      0.91      2612\n",
      "\n",
      "\n",
      "Confusion Matrix: \n",
      "[[1216   61]\n",
      " [ 170 1165]]\n"
     ]
    },
    {
     "data": {
      "text/plain": [
       "'Done'"
      ]
     },
     "execution_count": 111,
     "metadata": {},
     "output_type": "execute_result"
    }
   ],
   "source": [
    "print('\\nTesting\\n--------------------------')\n",
    "y_test_pred=classifier.predict(x_test)\n",
    "error_metrics(y_test, y_test_pred, x_test)"
   ]
  },
  {
   "cell_type": "markdown",
   "id": "c60c38a0",
   "metadata": {},
   "source": [
    "### Feature Importance"
   ]
  },
  {
   "cell_type": "code",
   "execution_count": 112,
   "id": "cd1a963a",
   "metadata": {
    "scrolled": true
   },
   "outputs": [
    {
     "data": {
      "text/html": [
       "<div>\n",
       "<style scoped>\n",
       "    .dataframe tbody tr th:only-of-type {\n",
       "        vertical-align: middle;\n",
       "    }\n",
       "\n",
       "    .dataframe tbody tr th {\n",
       "        vertical-align: top;\n",
       "    }\n",
       "\n",
       "    .dataframe thead th {\n",
       "        text-align: right;\n",
       "    }\n",
       "</style>\n",
       "<table border=\"1\" class=\"dataframe\">\n",
       "  <thead>\n",
       "    <tr style=\"text-align: right;\">\n",
       "      <th></th>\n",
       "      <th>Features</th>\n",
       "      <th>Importance</th>\n",
       "    </tr>\n",
       "  </thead>\n",
       "  <tbody>\n",
       "    <tr>\n",
       "      <th>0</th>\n",
       "      <td>energy</td>\n",
       "      <td>0.163581</td>\n",
       "    </tr>\n",
       "    <tr>\n",
       "      <th>1</th>\n",
       "      <td>duration</td>\n",
       "      <td>0.144656</td>\n",
       "    </tr>\n",
       "    <tr>\n",
       "      <th>2</th>\n",
       "      <td>momentum</td>\n",
       "      <td>0.138884</td>\n",
       "    </tr>\n",
       "    <tr>\n",
       "      <th>3</th>\n",
       "      <td>power</td>\n",
       "      <td>0.128892</td>\n",
       "    </tr>\n",
       "    <tr>\n",
       "      <th>4</th>\n",
       "      <td>jerk</td>\n",
       "      <td>0.119468</td>\n",
       "    </tr>\n",
       "    <tr>\n",
       "      <th>5</th>\n",
       "      <td>median</td>\n",
       "      <td>0.081242</td>\n",
       "    </tr>\n",
       "    <tr>\n",
       "      <th>6</th>\n",
       "      <td>change_in_load</td>\n",
       "      <td>0.078454</td>\n",
       "    </tr>\n",
       "    <tr>\n",
       "      <th>7</th>\n",
       "      <td>skewness</td>\n",
       "      <td>0.075762</td>\n",
       "    </tr>\n",
       "    <tr>\n",
       "      <th>8</th>\n",
       "      <td>acceleration</td>\n",
       "      <td>0.069062</td>\n",
       "    </tr>\n",
       "  </tbody>\n",
       "</table>\n",
       "</div>"
      ],
      "text/plain": [
       "         Features  Importance\n",
       "0          energy    0.163581\n",
       "1        duration    0.144656\n",
       "2        momentum    0.138884\n",
       "3           power    0.128892\n",
       "4            jerk    0.119468\n",
       "5          median    0.081242\n",
       "6  change_in_load    0.078454\n",
       "7        skewness    0.075762\n",
       "8    acceleration    0.069062"
      ]
     },
     "execution_count": 112,
     "metadata": {},
     "output_type": "execute_result"
    }
   ],
   "source": [
    "df_importance = pd.DataFrame()\n",
    "df_importance['Features'] = x_test.columns\n",
    "df_importance['Importance'] = classifier.feature_importances_\n",
    "df_importance = df_importance.sort_values(by='Importance', ascending=False).reset_index(drop=True)\n",
    "df_importance"
   ]
  },
  {
   "cell_type": "code",
   "execution_count": 113,
   "id": "57105b54",
   "metadata": {},
   "outputs": [
    {
     "data": {
      "text/plain": [
       "<AxesSubplot: xlabel='Importance', ylabel='Features'>"
      ]
     },
     "execution_count": 113,
     "metadata": {},
     "output_type": "execute_result"
    },
    {
     "data": {
      "image/png": "[encoded data removed]",
      "text/plain": [
       "<Figure size 720x360 with 1 Axes>"
      ]
     },
     "metadata": {
      "needs_background": "light"
     },
     "output_type": "display_data"
    }
   ],
   "source": [
    "plt.figure(figsize = (10,5))\n",
    "sns.barplot(x = 'Importance', y = 'Features', data = df_importance)"
   ]
  },
  {
   "cell_type": "markdown",
   "id": "644e14cc",
   "metadata": {},
   "source": [
    "# # Residual Analysis"
   ]
  },
  {
   "cell_type": "markdown",
   "id": "915960cd",
   "metadata": {},
   "source": [
    "### Using Random Forest for Test set"
   ]
  },
  {
   "cell_type": "code",
   "execution_count": 20,
   "id": "4afe4d57",
   "metadata": {
    "scrolled": true
   },
   "outputs": [
    {
     "data": {
      "text/html": [
       "<div>\n",
       "<style scoped>\n",
       "    .dataframe tbody tr th:only-of-type {\n",
       "        vertical-align: middle;\n",
       "    }\n",
       "\n",
       "    .dataframe tbody tr th {\n",
       "        vertical-align: top;\n",
       "    }\n",
       "\n",
       "    .dataframe thead th {\n",
       "        text-align: right;\n",
       "    }\n",
       "</style>\n",
       "<table border=\"1\" class=\"dataframe\">\n",
       "  <thead>\n",
       "    <tr style=\"text-align: right;\">\n",
       "      <th></th>\n",
       "      <th>duration</th>\n",
       "      <th>change_in_load</th>\n",
       "      <th>median</th>\n",
       "      <th>skewness</th>\n",
       "      <th>acceleration</th>\n",
       "      <th>jerk</th>\n",
       "      <th>energy</th>\n",
       "      <th>power</th>\n",
       "      <th>momentum</th>\n",
       "      <th>activity_urination</th>\n",
       "    </tr>\n",
       "  </thead>\n",
       "  <tbody>\n",
       "    <tr>\n",
       "      <th>35</th>\n",
       "      <td>151.974936</td>\n",
       "      <td>0.411415</td>\n",
       "      <td>0.02943</td>\n",
       "      <td>4.937878</td>\n",
       "      <td>0.062440</td>\n",
       "      <td>1.115698</td>\n",
       "      <td>231.485587</td>\n",
       "      <td>1.955160</td>\n",
       "      <td>53.699365</td>\n",
       "      <td>1</td>\n",
       "    </tr>\n",
       "    <tr>\n",
       "      <th>36</th>\n",
       "      <td>116.775000</td>\n",
       "      <td>0.513934</td>\n",
       "      <td>0.07848</td>\n",
       "      <td>3.543928</td>\n",
       "      <td>0.072436</td>\n",
       "      <td>1.317930</td>\n",
       "      <td>158.393776</td>\n",
       "      <td>2.175610</td>\n",
       "      <td>44.029496</td>\n",
       "      <td>1</td>\n",
       "    </tr>\n",
       "    <tr>\n",
       "      <th>37</th>\n",
       "      <td>103.974932</td>\n",
       "      <td>0.341989</td>\n",
       "      <td>0.07848</td>\n",
       "      <td>4.428555</td>\n",
       "      <td>0.053120</td>\n",
       "      <td>0.932406</td>\n",
       "      <td>56.504102</td>\n",
       "      <td>0.945586</td>\n",
       "      <td>24.531578</td>\n",
       "      <td>1</td>\n",
       "    </tr>\n",
       "    <tr>\n",
       "      <th>38</th>\n",
       "      <td>127.974931</td>\n",
       "      <td>0.378627</td>\n",
       "      <td>0.04905</td>\n",
       "      <td>4.008613</td>\n",
       "      <td>0.052726</td>\n",
       "      <td>0.902825</td>\n",
       "      <td>87.010054</td>\n",
       "      <td>1.278722</td>\n",
       "      <td>30.800858</td>\n",
       "      <td>1</td>\n",
       "    </tr>\n",
       "    <tr>\n",
       "      <th>39</th>\n",
       "      <td>134.374941</td>\n",
       "      <td>0.438349</td>\n",
       "      <td>0.03924</td>\n",
       "      <td>2.971821</td>\n",
       "      <td>0.068556</td>\n",
       "      <td>1.138041</td>\n",
       "      <td>157.388436</td>\n",
       "      <td>2.020651</td>\n",
       "      <td>39.991409</td>\n",
       "      <td>1</td>\n",
       "    </tr>\n",
       "  </tbody>\n",
       "</table>\n",
       "</div>"
      ],
      "text/plain": [
       "      duration  change_in_load   median  skewness  acceleration      jerk  \\\n",
       "35  151.974936        0.411415  0.02943  4.937878      0.062440  1.115698   \n",
       "36  116.775000        0.513934  0.07848  3.543928      0.072436  1.317930   \n",
       "37  103.974932        0.341989  0.07848  4.428555      0.053120  0.932406   \n",
       "38  127.974931        0.378627  0.04905  4.008613      0.052726  0.902825   \n",
       "39  134.374941        0.438349  0.03924  2.971821      0.068556  1.138041   \n",
       "\n",
       "        energy     power   momentum  activity_urination  \n",
       "35  231.485587  1.955160  53.699365                   1  \n",
       "36  158.393776  2.175610  44.029496                   1  \n",
       "37   56.504102  0.945586  24.531578                   1  \n",
       "38   87.010054  1.278722  30.800858                   1  \n",
       "39  157.388436  2.020651  39.991409                   1  "
      ]
     },
     "execution_count": 20,
     "metadata": {},
     "output_type": "execute_result"
    }
   ],
   "source": [
    "df_main.head()"
   ]
  },
  {
   "cell_type": "code",
   "execution_count": 21,
   "id": "64a23a2d",
   "metadata": {},
   "outputs": [
    {
     "name": "stdout",
     "output_type": "stream",
     "text": [
      "\n",
      "Testing\n",
      "--------------------------\n",
      "Accuracy %age: 91.16\n",
      "ROC-AUC Score: 0.97\n",
      "\n",
      "Classification Report: \n",
      "              precision    recall  f1-score   support\n",
      "\n",
      "           0       0.88      0.95      0.91      1277\n",
      "           1       0.95      0.87      0.91      1335\n",
      "\n",
      "    accuracy                           0.91      2612\n",
      "   macro avg       0.91      0.91      0.91      2612\n",
      "weighted avg       0.91      0.91      0.91      2612\n",
      "\n",
      "\n",
      "Confusion Matrix: \n",
      "[[1216   61]\n",
      " [ 170 1165]]\n"
     ]
    },
    {
     "data": {
      "text/plain": [
       "'Done'"
      ]
     },
     "execution_count": 21,
     "metadata": {},
     "output_type": "execute_result"
    }
   ],
   "source": [
    "classifier = RandomForestClassifier(n_estimators=55, criterion='entropy',max_depth =35, random_state=10)\n",
    "classifier.fit(x_train, y_train)\n",
    "\n",
    "print('\\nTesting\\n--------------------------')\n",
    "y_test_pred=classifier.predict(x_test)\n",
    "error_metrics(y_test, y_test_pred, x_test)"
   ]
  },
  {
   "cell_type": "markdown",
   "id": "f0894bbb",
   "metadata": {},
   "source": [
    "### 1. Falsely identified as Defecation (False_0)"
   ]
  },
  {
   "cell_type": "markdown",
   "id": "5ed935bf",
   "metadata": {},
   "source": [
    "#### Number of Rows misidentified as Defecation"
   ]
  },
  {
   "cell_type": "code",
   "execution_count": 22,
   "id": "13acab68",
   "metadata": {
    "scrolled": false
   },
   "outputs": [
    {
     "data": {
      "text/plain": [
       "(170, 9)"
      ]
     },
     "execution_count": 22,
     "metadata": {},
     "output_type": "execute_result"
    }
   ],
   "source": [
    "False_0 = x_test[(y_test == 1) & (y_test_pred[:].T == 0)]\n",
    "False_0.shape"
   ]
  },
  {
   "cell_type": "code",
   "execution_count": 23,
   "id": "50c8654c",
   "metadata": {},
   "outputs": [
    {
     "data": {
      "text/plain": [
       "Index(['duration', 'change_in_load', 'median', 'skewness', 'acceleration',\n",
       "       'jerk', 'energy', 'power', 'momentum', 'activity_urination'],\n",
       "      dtype='object')"
      ]
     },
     "execution_count": 23,
     "metadata": {},
     "output_type": "execute_result"
    }
   ],
   "source": [
    "df_main.columns"
   ]
  },
  {
   "cell_type": "markdown",
   "id": "332d5a86",
   "metadata": {},
   "source": [
    "#### Features average value for 'Urination'"
   ]
  },
  {
   "cell_type": "code",
   "execution_count": 24,
   "id": "b28f1483",
   "metadata": {
    "scrolled": true
   },
   "outputs": [
    {
     "data": {
      "text/plain": [
       "duration          112.532604\n",
       "change_in_load      0.538491\n",
       "median              0.226917\n",
       "skewness            4.966353\n",
       "acceleration        0.112286\n",
       "jerk                1.800631\n",
       "energy            234.220964\n",
       "power               4.028411\n",
       "momentum           37.421950\n",
       "dtype: float64"
      ]
     },
     "execution_count": 24,
     "metadata": {},
     "output_type": "execute_result"
    }
   ],
   "source": [
    "df_main_urination=df_main[df_main['activity_urination']==1]\n",
    "urination_mean=df_main_urination[['duration', 'change_in_load', 'median', 'skewness', 'acceleration',\n",
    "       'jerk', 'energy', 'power', 'momentum']].mean()\n",
    "urination_mean"
   ]
  },
  {
   "cell_type": "markdown",
   "id": "865bbb63",
   "metadata": {},
   "source": [
    "#### Features average value for 'Defication'"
   ]
  },
  {
   "cell_type": "code",
   "execution_count": 25,
   "id": "29737dc9",
   "metadata": {},
   "outputs": [
    {
     "data": {
      "text/plain": [
       "duration          165.516246\n",
       "change_in_load      0.755342\n",
       "median              0.368661\n",
       "skewness            4.051674\n",
       "acceleration        0.156251\n",
       "jerk                2.677805\n",
       "energy            828.667140\n",
       "power              10.859759\n",
       "momentum           72.144089\n",
       "dtype: float64"
      ]
     },
     "execution_count": 25,
     "metadata": {},
     "output_type": "execute_result"
    }
   ],
   "source": [
    "df_main_defecation=df_main[df_main['activity_urination']==0]\n",
    "defecation_mean=df_main_defecation[['duration', 'change_in_load', 'median', 'skewness', 'acceleration',\n",
    "       'jerk', 'energy', 'power', 'momentum']].mean()\n",
    "defecation_mean"
   ]
  },
  {
   "cell_type": "markdown",
   "id": "833a5b96",
   "metadata": {},
   "source": [
    "#### Features average values for urination misidentified as defecation"
   ]
  },
  {
   "cell_type": "code",
   "execution_count": 26,
   "id": "e0c64a68",
   "metadata": {},
   "outputs": [
    {
     "data": {
      "text/plain": [
       "duration          165.475506\n",
       "change_in_load      0.666322\n",
       "median              0.301052\n",
       "skewness            4.137113\n",
       "acceleration        0.135600\n",
       "jerk                2.356729\n",
       "energy            612.586664\n",
       "power               7.995216\n",
       "momentum           63.849994\n",
       "dtype: float64"
      ]
     },
     "execution_count": 26,
     "metadata": {},
     "output_type": "execute_result"
    }
   ],
   "source": [
    "False_0_mean=False_0[['duration', 'change_in_load', 'median', 'skewness', 'acceleration',\n",
    "       'jerk', 'energy', 'power', 'momentum']].mean()\n",
    "False_0_mean"
   ]
  },
  {
   "cell_type": "markdown",
   "id": "9eff9684",
   "metadata": {},
   "source": [
    "#### Table of Feature's mean"
   ]
  },
  {
   "cell_type": "code",
   "execution_count": 27,
   "id": "372499f3",
   "metadata": {},
   "outputs": [
    {
     "data": {
      "text/html": [
       "<div>\n",
       "<style scoped>\n",
       "    .dataframe tbody tr th:only-of-type {\n",
       "        vertical-align: middle;\n",
       "    }\n",
       "\n",
       "    .dataframe tbody tr th {\n",
       "        vertical-align: top;\n",
       "    }\n",
       "\n",
       "    .dataframe thead th {\n",
       "        text-align: right;\n",
       "    }\n",
       "</style>\n",
       "<table border=\"1\" class=\"dataframe\">\n",
       "  <thead>\n",
       "    <tr style=\"text-align: right;\">\n",
       "      <th></th>\n",
       "      <th>Urination</th>\n",
       "      <th>Defecation</th>\n",
       "      <th>Misidentified_as_defecation</th>\n",
       "    </tr>\n",
       "  </thead>\n",
       "  <tbody>\n",
       "    <tr>\n",
       "      <th>duration</th>\n",
       "      <td>112.532604</td>\n",
       "      <td>165.516246</td>\n",
       "      <td>165.475506</td>\n",
       "    </tr>\n",
       "    <tr>\n",
       "      <th>change_in_load</th>\n",
       "      <td>0.538491</td>\n",
       "      <td>0.755342</td>\n",
       "      <td>0.666322</td>\n",
       "    </tr>\n",
       "    <tr>\n",
       "      <th>median</th>\n",
       "      <td>0.226917</td>\n",
       "      <td>0.368661</td>\n",
       "      <td>0.301052</td>\n",
       "    </tr>\n",
       "    <tr>\n",
       "      <th>skewness</th>\n",
       "      <td>4.966353</td>\n",
       "      <td>4.051674</td>\n",
       "      <td>4.137113</td>\n",
       "    </tr>\n",
       "    <tr>\n",
       "      <th>acceleration</th>\n",
       "      <td>0.112286</td>\n",
       "      <td>0.156251</td>\n",
       "      <td>0.135600</td>\n",
       "    </tr>\n",
       "    <tr>\n",
       "      <th>jerk</th>\n",
       "      <td>1.800631</td>\n",
       "      <td>2.677805</td>\n",
       "      <td>2.356729</td>\n",
       "    </tr>\n",
       "    <tr>\n",
       "      <th>energy</th>\n",
       "      <td>234.220964</td>\n",
       "      <td>828.667140</td>\n",
       "      <td>612.586664</td>\n",
       "    </tr>\n",
       "    <tr>\n",
       "      <th>power</th>\n",
       "      <td>4.028411</td>\n",
       "      <td>10.859759</td>\n",
       "      <td>7.995216</td>\n",
       "    </tr>\n",
       "    <tr>\n",
       "      <th>momentum</th>\n",
       "      <td>37.421950</td>\n",
       "      <td>72.144089</td>\n",
       "      <td>63.849994</td>\n",
       "    </tr>\n",
       "  </tbody>\n",
       "</table>\n",
       "</div>"
      ],
      "text/plain": [
       "                 Urination  Defecation  Misidentified_as_defecation\n",
       "duration        112.532604  165.516246                   165.475506\n",
       "change_in_load    0.538491    0.755342                     0.666322\n",
       "median            0.226917    0.368661                     0.301052\n",
       "skewness          4.966353    4.051674                     4.137113\n",
       "acceleration      0.112286    0.156251                     0.135600\n",
       "jerk              1.800631    2.677805                     2.356729\n",
       "energy          234.220964  828.667140                   612.586664\n",
       "power             4.028411   10.859759                     7.995216\n",
       "momentum         37.421950   72.144089                    63.849994"
      ]
     },
     "execution_count": 27,
     "metadata": {},
     "output_type": "execute_result"
    }
   ],
   "source": [
    "data = {\"Urination\": urination_mean,\n",
    "        \"Defecation\": defecation_mean,\n",
    "        \"Misidentified_as_defecation\": False_0_mean}\n",
    "df_mean = pd.concat(data,axis = 1)\n",
    "df_mean"
   ]
  },
  {
   "cell_type": "markdown",
   "id": "01153435",
   "metadata": {},
   "source": [
    "#### ( Those Urination has features values nearer to the Defecation values are misidentifier as Defecation )"
   ]
  },
  {
   "cell_type": "markdown",
   "id": "3773ed5d",
   "metadata": {},
   "source": [
    "#### Box plots of Urination misidentified as defecation"
   ]
  },
  {
   "cell_type": "code",
   "execution_count": 28,
   "id": "5b767ee4",
   "metadata": {
    "scrolled": true
   },
   "outputs": [
    {
     "data": {
      "text/plain": [
       "Index(['duration', 'change_in_load', 'skewness', 'acceleration', 'jerk',\n",
       "       'energy', 'power', 'momentum'],\n",
       "      dtype='object')"
      ]
     },
     "execution_count": 28,
     "metadata": {},
     "output_type": "execute_result"
    }
   ],
   "source": [
    "False_0_box = False_0[['duration', 'change_in_load', 'skewness', 'acceleration', 'jerk', 'energy', 'power','momentum']]\n",
    "False_0_box.columns"
   ]
  },
  {
   "cell_type": "code",
   "execution_count": 29,
   "id": "918968ad",
   "metadata": {},
   "outputs": [
    {
     "data": {
      "image/png": "[encoded data removed]",
      "text/plain": [
       "<Figure size 1440x720 with 8 Axes>"
      ]
     },
     "metadata": {
      "needs_background": "light"
     },
     "output_type": "display_data"
    }
   ],
   "source": [
    "#Creating subplot of each column with its own scale\n",
    "\n",
    "red_circle = dict(markerfacecolor='red', marker='o', markeredgecolor='white')\n",
    "\n",
    "fig, axs = plt.subplots(1, len(False_0_box.columns), figsize=(20,10))\n",
    "\n",
    "for i, ax in enumerate(axs.flat):\n",
    "    ax.boxplot(False_0_box.iloc[:,i], flierprops=red_circle)\n",
    "    ax.set_title(False_0_box.columns[i], fontsize=20, fontweight='bold')\n",
    "    ax.tick_params(axis='y', labelsize=14)\n",
    "    \n",
    "plt.tight_layout()"
   ]
  },
  {
   "cell_type": "markdown",
   "id": "2741a51f",
   "metadata": {},
   "source": [
    "### 2. Falsely identified as Urination (False_1)"
   ]
  },
  {
   "cell_type": "markdown",
   "id": "568135a2",
   "metadata": {},
   "source": [
    "#### Number of Rows misidentified as Urination"
   ]
  },
  {
   "cell_type": "code",
   "execution_count": 30,
   "id": "4de5c61b",
   "metadata": {},
   "outputs": [
    {
     "data": {
      "text/plain": [
       "(61, 9)"
      ]
     },
     "execution_count": 30,
     "metadata": {},
     "output_type": "execute_result"
    }
   ],
   "source": [
    "False_1 = x_test[(y_test == 0) & (y_test_pred[:].T == 1)]\n",
    "False_1.shape"
   ]
  },
  {
   "cell_type": "markdown",
   "id": "0ddb9aca",
   "metadata": {},
   "source": [
    "#### Features average value for 'Defication'"
   ]
  },
  {
   "cell_type": "code",
   "execution_count": 31,
   "id": "5f19b30f",
   "metadata": {},
   "outputs": [
    {
     "data": {
      "text/plain": [
       "duration          165.516246\n",
       "change_in_load      0.755342\n",
       "median              0.368661\n",
       "skewness            4.051674\n",
       "acceleration        0.156251\n",
       "jerk                2.677805\n",
       "energy            828.667140\n",
       "power              10.859759\n",
       "momentum           72.144089\n",
       "dtype: float64"
      ]
     },
     "execution_count": 31,
     "metadata": {},
     "output_type": "execute_result"
    }
   ],
   "source": [
    "df_main_defecation=df_main[df_main['activity_urination']==0]\n",
    "df_main_defecation[['duration', 'change_in_load', 'median', 'skewness', 'acceleration',\n",
    "       'jerk', 'energy', 'power', 'momentum']].mean()"
   ]
  },
  {
   "cell_type": "markdown",
   "id": "1cd8775d",
   "metadata": {},
   "source": [
    "#### Features average values for Defication misidentified as Urination"
   ]
  },
  {
   "cell_type": "code",
   "execution_count": 32,
   "id": "d9156fc6",
   "metadata": {},
   "outputs": [
    {
     "data": {
      "text/plain": [
       "duration          132.319110\n",
       "change_in_load      0.479114\n",
       "median              0.138948\n",
       "skewness            4.571705\n",
       "acceleration        0.093733\n",
       "jerk                1.654049\n",
       "energy            254.740012\n",
       "power               3.401472\n",
       "momentum           42.212665\n",
       "dtype: float64"
      ]
     },
     "execution_count": 32,
     "metadata": {},
     "output_type": "execute_result"
    }
   ],
   "source": [
    "False_1[['duration', 'change_in_load', 'median', 'skewness', 'acceleration',\n",
    "       'jerk', 'energy', 'power', 'momentum']].mean()"
   ]
  },
  {
   "cell_type": "markdown",
   "id": "ffcba253",
   "metadata": {},
   "source": [
    "#### Box plots of Defecation misidentified as Urination"
   ]
  },
  {
   "cell_type": "code",
   "execution_count": 33,
   "id": "f5195efe",
   "metadata": {},
   "outputs": [
    {
     "data": {
      "text/plain": [
       "Index(['duration', 'change_in_load', 'skewness', 'acceleration', 'jerk',\n",
       "       'energy', 'power', 'momentum'],\n",
       "      dtype='object')"
      ]
     },
     "execution_count": 33,
     "metadata": {},
     "output_type": "execute_result"
    }
   ],
   "source": [
    "False_1_box = False_1[['duration', 'change_in_load', 'skewness', 'acceleration', 'jerk', 'energy', 'power','momentum']]\n",
    "False_1_box.columns"
   ]
  },
  {
   "cell_type": "code",
   "execution_count": 34,
   "id": "812ad1eb",
   "metadata": {},
   "outputs": [
    {
     "data": {
      "image/png": "[encoded data removed]",
      "text/plain": [
       "<Figure size 1440x720 with 8 Axes>"
      ]
     },
     "metadata": {
      "needs_background": "light"
     },
     "output_type": "display_data"
    }
   ],
   "source": [
    "#Creating subplot of each column with its own scale\n",
    "\n",
    "red_circle = dict(markerfacecolor='red', marker='o', markeredgecolor='white')\n",
    "\n",
    "fig, axs = plt.subplots(1, len(False_1_box.columns), figsize=(20,10))\n",
    "\n",
    "for i, ax in enumerate(axs.flat):\n",
    "    ax.boxplot(False_1_box.iloc[:,i], flierprops=red_circle)\n",
    "    ax.set_title(False_1_box.columns[i], fontsize=20, fontweight='bold')\n",
    "    ax.tick_params(axis='y', labelsize=14)\n",
    "    \n",
    "plt.tight_layout()"
   ]
  },
  {
   "cell_type": "code",
   "execution_count": 35,
   "id": "b65352b3",
   "metadata": {},
   "outputs": [
    {
     "data": {
      "text/plain": [
       "(61, 8)"
      ]
     },
     "execution_count": 35,
     "metadata": {},
     "output_type": "execute_result"
    }
   ],
   "source": [
    "False_1_box.shape"
   ]
  },
  {
   "cell_type": "markdown",
   "id": "adb18743",
   "metadata": {},
   "source": [
    "### Removing 3 outlier rows from 61 rows"
   ]
  },
  {
   "cell_type": "code",
   "execution_count": 36,
   "id": "221e0f7b",
   "metadata": {},
   "outputs": [
    {
     "data": {
      "text/plain": [
       "(58, 8)"
      ]
     },
     "execution_count": 36,
     "metadata": {},
     "output_type": "execute_result"
    }
   ],
   "source": [
    "# \"Change in load\" \n",
    "False_1_box=False_1_box[False_1_box['change_in_load']<1]\n",
    "\n",
    "\n",
    "# 'Energy' \n",
    "False_1_box=False_1_box[False_1_box['energy']<960]\n",
    "\n",
    "\n",
    "False_1_box.shape"
   ]
  },
  {
   "cell_type": "code",
   "execution_count": 37,
   "id": "73946e55",
   "metadata": {},
   "outputs": [
    {
     "data": {
      "image/png": "[encoded data removed]",
      "text/plain": [
       "<Figure size 1440x720 with 8 Axes>"
      ]
     },
     "metadata": {
      "needs_background": "light"
     },
     "output_type": "display_data"
    }
   ],
   "source": [
    "#Creating subplot of each column with its own scale\n",
    "\n",
    "red_circle = dict(markerfacecolor='red', marker='o', markeredgecolor='white')\n",
    "\n",
    "fig, axs = plt.subplots(1, len(False_1_box.columns), figsize=(20,10))\n",
    "\n",
    "for i, ax in enumerate(axs.flat):\n",
    "    ax.boxplot(False_1_box.iloc[:,i], flierprops=red_circle)\n",
    "    ax.set_title(False_1_box.columns[i], fontsize=20, fontweight='bold')\n",
    "    ax.tick_params(axis='y', labelsize=14)\n",
    "    \n",
    "plt.tight_layout()"
   ]
  },
  {
   "cell_type": "markdown",
   "id": "e8c4e863",
   "metadata": {},
   "source": [
    "#### Features average value for 'Defication'"
   ]
  },
  {
   "cell_type": "code",
   "execution_count": 38,
   "id": "cd9a541c",
   "metadata": {},
   "outputs": [
    {
     "data": {
      "text/plain": [
       "duration          165.516246\n",
       "change_in_load      0.755342\n",
       "median              0.368661\n",
       "skewness            4.051674\n",
       "acceleration        0.156251\n",
       "jerk                2.677805\n",
       "energy            828.667140\n",
       "power              10.859759\n",
       "momentum           72.144089\n",
       "dtype: float64"
      ]
     },
     "execution_count": 38,
     "metadata": {},
     "output_type": "execute_result"
    }
   ],
   "source": [
    "df_main_defecation=df_main[df_main['activity_urination']==0]\n",
    "defecation_mean=df_main_defecation[['duration', 'change_in_load', 'median', 'skewness', 'acceleration',\n",
    "       'jerk', 'energy', 'power', 'momentum']].mean()\n",
    "defecation_mean"
   ]
  },
  {
   "cell_type": "markdown",
   "id": "dadb68b6",
   "metadata": {},
   "source": [
    "#### Features average value for 'Urination'"
   ]
  },
  {
   "cell_type": "code",
   "execution_count": 39,
   "id": "fa4ade3a",
   "metadata": {},
   "outputs": [
    {
     "data": {
      "text/plain": [
       "duration          112.532604\n",
       "change_in_load      0.538491\n",
       "median              0.226917\n",
       "skewness            4.966353\n",
       "acceleration        0.112286\n",
       "jerk                1.800631\n",
       "energy            234.220964\n",
       "power               4.028411\n",
       "momentum           37.421950\n",
       "dtype: float64"
      ]
     },
     "execution_count": 39,
     "metadata": {},
     "output_type": "execute_result"
    }
   ],
   "source": [
    "df_main_defecation=df_main[df_main['activity_urination']==1]\n",
    "urination_mean=df_main_defecation[['duration', 'change_in_load', 'median', 'skewness', 'acceleration',\n",
    "       'jerk', 'energy', 'power', 'momentum']].mean()\n",
    "urination_mean"
   ]
  },
  {
   "cell_type": "markdown",
   "id": "0b71ca65",
   "metadata": {},
   "source": [
    "#### Features average values for Defication misidentified as Urination"
   ]
  },
  {
   "cell_type": "code",
   "execution_count": 40,
   "id": "060093ef",
   "metadata": {
    "scrolled": true
   },
   "outputs": [
    {
     "data": {
      "text/plain": [
       "duration          129.734578\n",
       "change_in_load      0.457096\n",
       "median              0.115183\n",
       "skewness            4.548847\n",
       "acceleration        0.090299\n",
       "jerk                1.636049\n",
       "energy            218.698001\n",
       "power               2.955174\n",
       "momentum           40.090914\n",
       "dtype: float64"
      ]
     },
     "execution_count": 40,
     "metadata": {},
     "output_type": "execute_result"
    }
   ],
   "source": [
    "False_1=False_1[False_1['change_in_load']<1]\n",
    "False_1=False_1[False_1['energy']<960]\n",
    "\n",
    "False_1_mean=False_1[['duration', 'change_in_load', 'median', 'skewness', 'acceleration',\n",
    "       'jerk', 'energy', 'power', 'momentum']].mean()\n",
    "False_1_mean"
   ]
  },
  {
   "cell_type": "markdown",
   "id": "edaaf439",
   "metadata": {},
   "source": [
    "#### Table of Feature's mean"
   ]
  },
  {
   "cell_type": "code",
   "execution_count": 41,
   "id": "8826a7e4",
   "metadata": {},
   "outputs": [
    {
     "data": {
      "text/html": [
       "<div>\n",
       "<style scoped>\n",
       "    .dataframe tbody tr th:only-of-type {\n",
       "        vertical-align: middle;\n",
       "    }\n",
       "\n",
       "    .dataframe tbody tr th {\n",
       "        vertical-align: top;\n",
       "    }\n",
       "\n",
       "    .dataframe thead th {\n",
       "        text-align: right;\n",
       "    }\n",
       "</style>\n",
       "<table border=\"1\" class=\"dataframe\">\n",
       "  <thead>\n",
       "    <tr style=\"text-align: right;\">\n",
       "      <th></th>\n",
       "      <th>Urination</th>\n",
       "      <th>Defecation</th>\n",
       "      <th>Misidentified_as_urination</th>\n",
       "    </tr>\n",
       "  </thead>\n",
       "  <tbody>\n",
       "    <tr>\n",
       "      <th>duration</th>\n",
       "      <td>112.532604</td>\n",
       "      <td>165.516246</td>\n",
       "      <td>129.734578</td>\n",
       "    </tr>\n",
       "    <tr>\n",
       "      <th>change_in_load</th>\n",
       "      <td>0.538491</td>\n",
       "      <td>0.755342</td>\n",
       "      <td>0.457096</td>\n",
       "    </tr>\n",
       "    <tr>\n",
       "      <th>median</th>\n",
       "      <td>0.226917</td>\n",
       "      <td>0.368661</td>\n",
       "      <td>0.115183</td>\n",
       "    </tr>\n",
       "    <tr>\n",
       "      <th>skewness</th>\n",
       "      <td>4.966353</td>\n",
       "      <td>4.051674</td>\n",
       "      <td>4.548847</td>\n",
       "    </tr>\n",
       "    <tr>\n",
       "      <th>acceleration</th>\n",
       "      <td>0.112286</td>\n",
       "      <td>0.156251</td>\n",
       "      <td>0.090299</td>\n",
       "    </tr>\n",
       "    <tr>\n",
       "      <th>jerk</th>\n",
       "      <td>1.800631</td>\n",
       "      <td>2.677805</td>\n",
       "      <td>1.636049</td>\n",
       "    </tr>\n",
       "    <tr>\n",
       "      <th>energy</th>\n",
       "      <td>234.220964</td>\n",
       "      <td>828.667140</td>\n",
       "      <td>218.698001</td>\n",
       "    </tr>\n",
       "    <tr>\n",
       "      <th>power</th>\n",
       "      <td>4.028411</td>\n",
       "      <td>10.859759</td>\n",
       "      <td>2.955174</td>\n",
       "    </tr>\n",
       "    <tr>\n",
       "      <th>momentum</th>\n",
       "      <td>37.421950</td>\n",
       "      <td>72.144089</td>\n",
       "      <td>40.090914</td>\n",
       "    </tr>\n",
       "  </tbody>\n",
       "</table>\n",
       "</div>"
      ],
      "text/plain": [
       "                 Urination  Defecation  Misidentified_as_urination\n",
       "duration        112.532604  165.516246                  129.734578\n",
       "change_in_load    0.538491    0.755342                    0.457096\n",
       "median            0.226917    0.368661                    0.115183\n",
       "skewness          4.966353    4.051674                    4.548847\n",
       "acceleration      0.112286    0.156251                    0.090299\n",
       "jerk              1.800631    2.677805                    1.636049\n",
       "energy          234.220964  828.667140                  218.698001\n",
       "power             4.028411   10.859759                    2.955174\n",
       "momentum         37.421950   72.144089                   40.090914"
      ]
     },
     "execution_count": 41,
     "metadata": {},
     "output_type": "execute_result"
    }
   ],
   "source": [
    "data = {\"Urination\": urination_mean,\n",
    "        \"Defecation\": defecation_mean,\n",
    "        \"Misidentified_as_urination\": False_1_mean}\n",
    "df_mean = pd.concat(data,axis = 1)\n",
    "df_mean"
   ]
  },
  {
   "cell_type": "markdown",
   "id": "103924cb",
   "metadata": {},
   "source": [
    "#### ( Those defecation has features value nearer to urination values are misidentified as urination )"
   ]
  },
  {
   "cell_type": "markdown",
   "id": "51b0f00b",
   "metadata": {},
   "source": [
    "# # Improvement of Model Performance"
   ]
  },
  {
   "cell_type": "markdown",
   "id": "b01fef5f",
   "metadata": {},
   "source": [
    "### # Introducing 'load/sec' to improve the performance "
   ]
  },
  {
   "cell_type": "code",
   "execution_count": 82,
   "id": "be339848",
   "metadata": {},
   "outputs": [],
   "source": [
    "df_main=df_main1.copy()"
   ]
  },
  {
   "cell_type": "code",
   "execution_count": 84,
   "id": "9b187b4c",
   "metadata": {},
   "outputs": [
    {
     "data": {
      "text/plain": [
       "(8929, 18)"
      ]
     },
     "execution_count": 84,
     "metadata": {},
     "output_type": "execute_result"
    }
   ],
   "source": [
    "df_main=df_main[df_main['activity']!='non_elimination']\n",
    "df_main.shape"
   ]
  },
  {
   "cell_type": "code",
   "execution_count": 85,
   "id": "657ee3ec",
   "metadata": {},
   "outputs": [],
   "source": [
    "df_main['load_change/sec']=df_main['change_in_load']/df_main['duration']"
   ]
  },
  {
   "cell_type": "code",
   "execution_count": 86,
   "id": "d18753d7",
   "metadata": {},
   "outputs": [
    {
     "data": {
      "text/plain": [
       "(8785, 19)"
      ]
     },
     "execution_count": 86,
     "metadata": {},
     "output_type": "execute_result"
    }
   ],
   "source": [
    "### Data cleaning & Outlier Treatment:\n",
    "\n",
    "# Replacing NaN Name as 'unknown'\n",
    "df_main['name'].fillna('unknown',inplace=True)\n",
    "\n",
    "# Dropping NaN Rows \n",
    "df_main.dropna(inplace=True)\n",
    "\n",
    "# Dropping rows with weight less than 1kg and more than 8kg\n",
    "df_main=df_main[(df_main['weight']>1000) & (df_main['weight']<8000)]\n",
    "\n",
    "# Activity \"duration\" \n",
    "df_main=df_main[~((df_main['activity']=='defecation') & (df_main['duration']>450))]\n",
    "df_main=df_main[~((df_main['activity']=='urination') & (df_main['duration']>400))]\n",
    "\n",
    "# \"Change in load\" \n",
    "df_main=df_main[~((df_main['activity']=='defecation') & (df_main['change_in_load']>1.8))]\n",
    "df_main=df_main[~((df_main['activity']=='urination') & (df_main['change_in_load']>1.5))]\n",
    "\n",
    "# 'Variance' \n",
    "df_main=df_main[~((df_main['activity']=='defecation') & (df_main['variance']>8))]\n",
    "df_main=df_main[~((df_main['activity']=='urination') & (df_main['variance']>7))]\n",
    "\n",
    "# 'Skewness' \n",
    "df_main=df_main[~((df_main['activity']=='defecation') & (df_main['skewness']>10))]\n",
    "df_main=df_main[~((df_main['activity']=='urination') & (df_main['skewness']>12))]\n",
    "\n",
    "# 'Acceleration' \n",
    "df_main=df_main[~((df_main['activity']=='defecation') & (df_main['acceleration']>0.41))]\n",
    "df_main=df_main[~((df_main['activity']=='urination') & (df_main['acceleration']>0.34))]\n",
    "\n",
    "# 'Jerk' \n",
    "df_main=df_main[~((df_main['activity']=='defecation') & (df_main['jerk']>7))]\n",
    "df_main=df_main[~((df_main['activity']=='urination') & (df_main['jerk']>5.8))]\n",
    "\n",
    "# 'Velocity'\n",
    "df_main=df_main[~((df_main['activity']=='defecation') & (df_main['velocity']>45))]\n",
    "df_main=df_main[~((df_main['activity']=='urination') & (df_main['velocity']>34))]\n",
    "\n",
    "# 'Energy' \n",
    "df_main=df_main[~((df_main['activity']=='defecation') & (df_main['energy']>5000))]\n",
    "df_main=df_main[~((df_main['activity']=='urination') & (df_main['energy']>3000))]\n",
    "\n",
    "# 'Power' \n",
    "df_main=df_main[~((df_main['activity']=='defecation') & (df_main['power']>47))]\n",
    "df_main=df_main[~((df_main['activity']=='urination') & (df_main['power']>27))]\n",
    "\n",
    "# 'Momentum' \n",
    "df_main=df_main[~((df_main['activity']=='defecation') & (df_main['momentum']>195))]\n",
    "df_main=df_main[~((df_main['activity']=='urination') & (df_main['momentum']>135))]\n",
    "\n",
    "df_main=df_main[~((df_main['activity']=='defecation') & (df_main['energy']>4500))]\n",
    "\n",
    "df_main.shape"
   ]
  },
  {
   "cell_type": "code",
   "execution_count": 87,
   "id": "1308c19a",
   "metadata": {},
   "outputs": [],
   "source": [
    "# Onehot encoding\n",
    "df_main=pd.get_dummies(df_main, columns=['activity'])\n",
    "\n",
    "# Droping non numeric columns\n",
    "df_main.drop(['name', 'start_time', 'activity_defecation'],axis=1,inplace=True)\n",
    "\n",
    "### Deleting 'kurtosis', 'variance', 'maximum', 'velocity', '0.9_quantile' columns as a result of Backward elimination in modelling\n",
    "df_main.drop(['kurtosis', 'variance', 'maximum', 'velocity', '0.9_quantile'], axis=1, inplace=True)\n",
    "\n",
    "# Deleting weight columns\n",
    "df_main.drop(['weight'],axis=1,inplace=True)\n",
    "\n",
    "\n",
    "# Upsampling\n",
    "df_majority = df_main[df_main.activity_urination==1]\n",
    "df_minority = df_main[df_main.activity_urination==0]\n",
    "df_upsampled = resample(df_minority, replace=True, n_samples=len(df_majority), random_state=0)\n",
    "df_main = pd.concat([df_majority, df_upsampled])\n",
    "\n",
    "\n",
    "# Data splitting to train, validartion and test set\n",
    "df_shuffeled=df_main.sample(frac=1,random_state=101)\n",
    "df_train=df_shuffeled[:int(len(df_shuffeled)*0.6)]\n",
    "df_validate=df_shuffeled[int(len(df_shuffeled)*.6):int(len(df_shuffeled)*0.8)]\n",
    "df_test=df_shuffeled[int(len(df_shuffeled)*0.8):]\n",
    "\n",
    "x_train = df_train.drop(columns='activity_urination')\n",
    "y_train = df_train['activity_urination']\n",
    "x_validate = df_validate.drop(columns='activity_urination')\n",
    "y_validate = df_validate['activity_urination']\n",
    "x_test = df_test.drop(columns='activity_urination')\n",
    "y_test = df_test['activity_urination']"
   ]
  },
  {
   "cell_type": "code",
   "execution_count": 88,
   "id": "ee0552e4",
   "metadata": {},
   "outputs": [
    {
     "name": "stdout",
     "output_type": "stream",
     "text": [
      "\n",
      "Training\n",
      "--------------------------\n",
      "Accuracy %age: 91.92\n",
      "ROC-AUC Score: 0.98\n",
      "\n",
      "Classification Report: \n",
      "              precision    recall  f1-score   support\n",
      "\n",
      "           0       0.90      0.95      0.92      3938\n",
      "           1       0.94      0.89      0.92      3898\n",
      "\n",
      "    accuracy                           0.92      7836\n",
      "   macro avg       0.92      0.92      0.92      7836\n",
      "weighted avg       0.92      0.92      0.92      7836\n",
      "\n",
      "\n",
      "Confusion Matrix: \n",
      "[[3731  207]\n",
      " [ 426 3472]]\n",
      "\n",
      "Validation\n",
      "--------------------------\n",
      "Accuracy %age: 91.23\n",
      "ROC-AUC Score: 0.97\n",
      "\n",
      "Classification Report: \n",
      "              precision    recall  f1-score   support\n",
      "\n",
      "           0       0.88      0.96      0.92      1315\n",
      "           1       0.96      0.86      0.91      1297\n",
      "\n",
      "    accuracy                           0.91      2612\n",
      "   macro avg       0.92      0.91      0.91      2612\n",
      "weighted avg       0.92      0.91      0.91      2612\n",
      "\n",
      "\n",
      "Confusion Matrix: \n",
      "[[1263   52]\n",
      " [ 177 1120]]\n",
      "\n",
      "Testing\n",
      "--------------------------\n",
      "Accuracy %age: 90.89\n",
      "ROC-AUC Score: 0.97\n",
      "\n",
      "Classification Report: \n",
      "              precision    recall  f1-score   support\n",
      "\n",
      "           0       0.88      0.95      0.91      1277\n",
      "           1       0.95      0.87      0.91      1335\n",
      "\n",
      "    accuracy                           0.91      2612\n",
      "   macro avg       0.91      0.91      0.91      2612\n",
      "weighted avg       0.91      0.91      0.91      2612\n",
      "\n",
      "\n",
      "Confusion Matrix: \n",
      "[[1210   67]\n",
      " [ 171 1164]]\n"
     ]
    },
    {
     "data": {
      "text/plain": [
       "'Done'"
      ]
     },
     "execution_count": 88,
     "metadata": {},
     "output_type": "execute_result"
    }
   ],
   "source": [
    "# Model Performance evaluation:\n",
    "\n",
    "# For Training:\n",
    "classifier = RandomForestClassifier(n_estimators=55, criterion='entropy',max_depth =35, random_state=10)\n",
    "classifier.fit(x_train, y_train)\n",
    "print('\\nTraining\\n--------------------------')\n",
    "y_train_pred=classifier.predict(x_train)\n",
    "error_metrics(y_train, y_train_pred, x_train)\n",
    "\n",
    "# For Validation:\n",
    "print('\\nValidation\\n--------------------------')\n",
    "y_validate_pred=classifier.predict(x_validate)\n",
    "error_metrics(y_validate, y_validate_pred, x_validate)\n",
    "\n",
    "# For Test:\n",
    "print('\\nTesting\\n--------------------------')\n",
    "y_test_pred=classifier.predict(x_test)\n",
    "error_metrics(y_test, y_test_pred, x_test)"
   ]
  },
  {
   "cell_type": "code",
   "execution_count": 89,
   "id": "74aa3fb2",
   "metadata": {},
   "outputs": [],
   "source": [
    "# Test accuracy improved. It was 91.16 now it is 92.76\n",
    "# previously False_0 (Falsely identified as defecation) was was 170 now it has decreased to 103\n",
    "# previously False_1 (Falsely identified as urination) was was 61 now it has increased to 86\n",
    "# But overall model performance has increased"
   ]
  },
  {
   "cell_type": "markdown",
   "id": "26818388",
   "metadata": {},
   "source": [
    "# # Insights"
   ]
  },
  {
   "cell_type": "markdown",
   "id": "69979d76",
   "metadata": {},
   "source": [
    "### 1. Rightly identifies as Urination"
   ]
  },
  {
   "cell_type": "code",
   "execution_count": 94,
   "id": "cbf49c9d",
   "metadata": {
    "scrolled": true
   },
   "outputs": [
    {
     "data": {
      "text/plain": [
       "(1164, 10)"
      ]
     },
     "execution_count": 94,
     "metadata": {},
     "output_type": "execute_result"
    }
   ],
   "source": [
    "True_1 = x_test[(y_test == 1) & (y_test_pred[:].T == 1)]\n",
    "True_1.shape"
   ]
  },
  {
   "cell_type": "code",
   "execution_count": 96,
   "id": "204ebf98",
   "metadata": {
    "scrolled": true
   },
   "outputs": [
    {
     "data": {
      "text/plain": [
       "duration           103.462807\n",
       "change_in_load       0.515403\n",
       "median               0.214084\n",
       "skewness             5.126594\n",
       "acceleration         0.107835\n",
       "jerk                 1.692203\n",
       "energy             172.695612\n",
       "power                3.369640\n",
       "momentum            32.871167\n",
       "load_change/sec      0.005809\n",
       "dtype: float64"
      ]
     },
     "execution_count": 96,
     "metadata": {},
     "output_type": "execute_result"
    }
   ],
   "source": [
    "True_1.mean()"
   ]
  },
  {
   "cell_type": "markdown",
   "id": "a16c766b",
   "metadata": {},
   "source": [
    "### 2. Rightly identified as defecation"
   ]
  },
  {
   "cell_type": "code",
   "execution_count": 97,
   "id": "55322a5e",
   "metadata": {},
   "outputs": [
    {
     "data": {
      "text/plain": [
       "(1210, 10)"
      ]
     },
     "execution_count": 97,
     "metadata": {},
     "output_type": "execute_result"
    }
   ],
   "source": [
    "True_0 = x_test[(y_test == 0) & (y_test_pred[:].T == 0)]\n",
    "True_0.shape"
   ]
  },
  {
   "cell_type": "code",
   "execution_count": 98,
   "id": "78bf4b74",
   "metadata": {},
   "outputs": [
    {
     "data": {
      "text/plain": [
       "duration           169.791231\n",
       "change_in_load       0.768225\n",
       "median               0.380182\n",
       "skewness             4.068458\n",
       "acceleration         0.159003\n",
       "jerk                 2.730014\n",
       "energy             883.868605\n",
       "power               11.399571\n",
       "momentum            74.489048\n",
       "load_change/sec      0.004983\n",
       "dtype: float64"
      ]
     },
     "execution_count": 98,
     "metadata": {},
     "output_type": "execute_result"
    }
   ],
   "source": [
    "True_0.mean()"
   ]
  },
  {
   "cell_type": "markdown",
   "id": "b722832f",
   "metadata": {},
   "source": [
    "#### Mean Table of Rightly identified activities"
   ]
  },
  {
   "cell_type": "code",
   "execution_count": 99,
   "id": "b9bc4456",
   "metadata": {
    "scrolled": true
   },
   "outputs": [
    {
     "data": {
      "text/html": [
       "<div>\n",
       "<style scoped>\n",
       "    .dataframe tbody tr th:only-of-type {\n",
       "        vertical-align: middle;\n",
       "    }\n",
       "\n",
       "    .dataframe tbody tr th {\n",
       "        vertical-align: top;\n",
       "    }\n",
       "\n",
       "    .dataframe thead th {\n",
       "        text-align: right;\n",
       "    }\n",
       "</style>\n",
       "<table border=\"1\" class=\"dataframe\">\n",
       "  <thead>\n",
       "    <tr style=\"text-align: right;\">\n",
       "      <th></th>\n",
       "      <th>Defecation</th>\n",
       "      <th>Urination</th>\n",
       "    </tr>\n",
       "  </thead>\n",
       "  <tbody>\n",
       "    <tr>\n",
       "      <th>duration</th>\n",
       "      <td>169.791231</td>\n",
       "      <td>103.462807</td>\n",
       "    </tr>\n",
       "    <tr>\n",
       "      <th>change_in_load</th>\n",
       "      <td>0.768225</td>\n",
       "      <td>0.515403</td>\n",
       "    </tr>\n",
       "    <tr>\n",
       "      <th>median</th>\n",
       "      <td>0.380182</td>\n",
       "      <td>0.214084</td>\n",
       "    </tr>\n",
       "    <tr>\n",
       "      <th>skewness</th>\n",
       "      <td>4.068458</td>\n",
       "      <td>5.126594</td>\n",
       "    </tr>\n",
       "    <tr>\n",
       "      <th>acceleration</th>\n",
       "      <td>0.159003</td>\n",
       "      <td>0.107835</td>\n",
       "    </tr>\n",
       "    <tr>\n",
       "      <th>jerk</th>\n",
       "      <td>2.730014</td>\n",
       "      <td>1.692203</td>\n",
       "    </tr>\n",
       "    <tr>\n",
       "      <th>energy</th>\n",
       "      <td>883.868605</td>\n",
       "      <td>172.695612</td>\n",
       "    </tr>\n",
       "    <tr>\n",
       "      <th>power</th>\n",
       "      <td>11.399571</td>\n",
       "      <td>3.369640</td>\n",
       "    </tr>\n",
       "    <tr>\n",
       "      <th>momentum</th>\n",
       "      <td>74.489048</td>\n",
       "      <td>32.871167</td>\n",
       "    </tr>\n",
       "    <tr>\n",
       "      <th>load_change/sec</th>\n",
       "      <td>0.004983</td>\n",
       "      <td>0.005809</td>\n",
       "    </tr>\n",
       "  </tbody>\n",
       "</table>\n",
       "</div>"
      ],
      "text/plain": [
       "                 Defecation   Urination\n",
       "duration         169.791231  103.462807\n",
       "change_in_load     0.768225    0.515403\n",
       "median             0.380182    0.214084\n",
       "skewness           4.068458    5.126594\n",
       "acceleration       0.159003    0.107835\n",
       "jerk               2.730014    1.692203\n",
       "energy           883.868605  172.695612\n",
       "power             11.399571    3.369640\n",
       "momentum          74.489048   32.871167\n",
       "load_change/sec    0.004983    0.005809"
      ]
     },
     "execution_count": 99,
     "metadata": {},
     "output_type": "execute_result"
    }
   ],
   "source": [
    "df_insight = pd.DataFrame()\n",
    "df_insight['Defecation'] = True_0.mean()\n",
    "df_insight['Urination'] = True_1.mean()\n",
    "df_insight"
   ]
  },
  {
   "cell_type": "code",
   "execution_count": null,
   "id": "de14d9da",
   "metadata": {},
   "outputs": [],
   "source": []
  }
 ],
 "metadata": {
  "kernelspec": {
   "display_name": "Python 3 (ipykernel)",
   "language": "python",
   "name": "python3"
  },
  "language_info": {
   "codemirror_mode": {
    "name": "ipython",
    "version": 3
   },
   "file_extension": ".py",
   "mimetype": "text/x-python",
   "name": "python",
   "nbconvert_exporter": "python",
   "pygments_lexer": "ipython3",
   "version": "3.9.12"
  }
 },
 "nbformat": 4,
 "nbformat_minor": 5
}
