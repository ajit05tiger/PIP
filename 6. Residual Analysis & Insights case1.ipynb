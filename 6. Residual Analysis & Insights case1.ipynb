{
 "cells": [
  {
   "cell_type": "code",
   "execution_count": 1,
   "id": "3309fc79",
   "metadata": {},
   "outputs": [],
   "source": [
    "import pandas as pd\n",
    "import numpy as np\n",
    "import seaborn as sns\n",
    "import matplotlib.pyplot as plt\n",
    "%matplotlib inline\n",
    "from scipy import stats\n",
    "import os\n",
    "import glob\n",
    "from sklearn.utils import resample\n",
    "from sklearn.linear_model import LogisticRegression\n",
    "from sklearn.tree import DecisionTreeClassifier\n",
    "from sklearn.ensemble import RandomForestClassifier\n",
    "from sklearn.metrics import confusion_matrix, accuracy_score, classification_report, roc_auc_score, plot_roc_curve\n",
    "# pip install xgboost\n",
    "from xgboost import XGBClassifier\n",
    "from sklearn.model_selection import GridSearchCV\n",
    "from sklearn import tree\n",
    "# !pip install graphviz\n",
    "# !pip install pydotplus\n",
    "# conda install graphviz\n",
    "from six import StringIO\n",
    "from sklearn import metrics"
   ]
  },
  {
   "cell_type": "markdown",
   "id": "26b36b57",
   "metadata": {},
   "source": [
    "# # Data Preparation:"
   ]
  },
  {
   "cell_type": "markdown",
   "id": "8f99ed42",
   "metadata": {},
   "source": [
    "### 1. Data Creation"
   ]
  },
  {
   "cell_type": "markdown",
   "id": "0ca9352c",
   "metadata": {},
   "source": [
    "#### # Creating empty main csv file with all features name"
   ]
  },
  {
   "cell_type": "code",
   "execution_count": 2,
   "id": "879f8190",
   "metadata": {},
   "outputs": [
    {
     "data": {
      "text/html": [
       "<div>\n",
       "<style scoped>\n",
       "    .dataframe tbody tr th:only-of-type {\n",
       "        vertical-align: middle;\n",
       "    }\n",
       "\n",
       "    .dataframe tbody tr th {\n",
       "        vertical-align: top;\n",
       "    }\n",
       "\n",
       "    .dataframe thead th {\n",
       "        text-align: right;\n",
       "    }\n",
       "</style>\n",
       "<table border=\"1\" class=\"dataframe\">\n",
       "  <thead>\n",
       "    <tr style=\"text-align: right;\">\n",
       "      <th></th>\n",
       "      <th>name</th>\n",
       "      <th>activity</th>\n",
       "      <th>weight</th>\n",
       "      <th>duration</th>\n",
       "      <th>start_time</th>\n",
       "      <th>change_in_load</th>\n",
       "      <th>variance</th>\n",
       "      <th>maximum</th>\n",
       "      <th>median</th>\n",
       "      <th>skewness</th>\n",
       "      <th>kurtosis</th>\n",
       "      <th>0.9_quantile</th>\n",
       "      <th>acceleration</th>\n",
       "      <th>jerk</th>\n",
       "      <th>velocity</th>\n",
       "      <th>energy</th>\n",
       "      <th>power</th>\n",
       "      <th>momentum</th>\n",
       "    </tr>\n",
       "  </thead>\n",
       "  <tbody>\n",
       "  </tbody>\n",
       "</table>\n",
       "</div>"
      ],
      "text/plain": [
       "Empty DataFrame\n",
       "Columns: [name, activity, weight, duration, start_time, change_in_load, variance, maximum, median, skewness, kurtosis, 0.9_quantile, acceleration, jerk, velocity, energy, power, momentum]\n",
       "Index: []"
      ]
     },
     "execution_count": 2,
     "metadata": {},
     "output_type": "execute_result"
    }
   ],
   "source": [
    "df_main1 = pd.DataFrame(columns = ['name' ,'activity' ,'weight', 'duration','start_time' ,'change_in_load', 'variance',  'maximum', 'median', 'skewness', 'kurtosis', '0.9_quantile', 'acceleration', 'jerk', 'velocity', 'energy', 'power', 'momentum'])\n",
    "df_main1"
   ]
  },
  {
   "cell_type": "markdown",
   "id": "af4a099b",
   "metadata": {},
   "source": [
    "#### # Creating a function of value incertion in main csv file"
   ]
  },
  {
   "cell_type": "code",
   "execution_count": 3,
   "id": "f898c97f",
   "metadata": {},
   "outputs": [],
   "source": [
    "def value_insertion(loc_csv):\n",
    "    df=pd.read_csv(loc_csv)\n",
    "#     print(loc_csv)    # Print this if you want to track which folder is running while running the code\n",
    "    df_main1.loc[len(df_main1.index)] = [df['name'][0], df['activity'][0], df['weight'][0], df['timestamp'][len(df)-1], df['start_time'][0], df['diff_load_sum'].mean(), df['diff_load_sum'].var(), df['diff_load_sum'].max(), df['diff_load_sum'].median(), df['diff_load_sum'].skew(), df['diff_load_sum'].kurtosis(), df['diff_load_sum'].quantile(0.9), df['acc'].mean(), df['jerk'].mean(), df['velo'].mean(), df['enr'].mean(), df['power'].mean(), df['mom'].mean()]\n",
    "    return df_main1"
   ]
  },
  {
   "cell_type": "markdown",
   "id": "28573382",
   "metadata": {},
   "source": [
    "#### # Creating a list with all folder's name"
   ]
  },
  {
   "cell_type": "code",
   "execution_count": 4,
   "id": "38d944da",
   "metadata": {},
   "outputs": [],
   "source": [
    "rootdir = \"D:/Ajit/pip/sample_labeled9\"\n",
    "folder_list = []\n",
    "for subdir, dirs, files in os.walk(rootdir):\n",
    "    folder_list.append(subdir)\n",
    "del folder_list[0]"
   ]
  },
  {
   "cell_type": "markdown",
   "id": "64847a10",
   "metadata": {},
   "source": [
    "#### # Value insertion in main csv file"
   ]
  },
  {
   "cell_type": "code",
   "execution_count": 5,
   "id": "c14c20f6",
   "metadata": {},
   "outputs": [],
   "source": [
    "i=0\n",
    "for folder in folder_list:\n",
    "    path=folder\n",
    "    for filename in os.listdir(path):\n",
    "        x=path+'/'+filename\n",
    "#         print(i)     # Print this if you want to track which folder is running while running the code\n",
    "        value_insertion(x)\n",
    "        i+=1"
   ]
  },
  {
   "cell_type": "code",
   "execution_count": 6,
   "id": "2989c504",
   "metadata": {},
   "outputs": [],
   "source": [
    "# Taking backup of loaded dataset as 'df_main1'\n",
    "df_main=df_main1.copy()"
   ]
  },
  {
   "cell_type": "markdown",
   "id": "c03842a1",
   "metadata": {},
   "source": [
    "### 2. Data cleaning and Outlier removal"
   ]
  },
  {
   "cell_type": "code",
   "execution_count": 7,
   "id": "7c3d5e29",
   "metadata": {},
   "outputs": [
    {
     "data": {
      "text/plain": [
       "(12817, 18)"
      ]
     },
     "execution_count": 7,
     "metadata": {},
     "output_type": "execute_result"
    }
   ],
   "source": [
    "# Replacing NaN Name as 'unknown' (246 Rows)\n",
    "df_main['name'].fillna('unknown',inplace=True)\n",
    "\n",
    "# Dropping NaN Rows (13 Rows)\n",
    "df_main.dropna(inplace=True)\n",
    "\n",
    "# Dropping rows with weight less than 1kg (27 Rows) and more than 8kg (8 Rows).\n",
    "df_main=df_main[(df_main['weight']>1000) & (df_main['weight']<8000)]\n",
    "\n",
    "# Activity \"duration\" (15 Rows)\n",
    "df_main=df_main[~((df_main['activity']=='defecation') & (df_main['duration']>450))]\n",
    "df_main=df_main[~((df_main['activity']=='non_elimination') & (df_main['duration']>360))]\n",
    "df_main=df_main[~((df_main['activity']=='urination') & (df_main['duration']>400))]\n",
    "\n",
    "# \"Change in load\" (20 Rows)\n",
    "df_main=df_main[~((df_main['activity']=='defecation') & (df_main['change_in_load']>1.8))]\n",
    "df_main=df_main[~((df_main['activity']=='non_elimination') & (df_main['change_in_load']>1.8))]\n",
    "df_main=df_main[~((df_main['activity']=='urination') & (df_main['change_in_load']>1.5))]\n",
    "\n",
    "# 'Variance' (17 Rows)\n",
    "df_main=df_main[~((df_main['activity']=='defecation') & (df_main['variance']>8))]\n",
    "df_main=df_main[~((df_main['activity']=='non_elimination') & (df_main['variance']>15))]\n",
    "df_main=df_main[~((df_main['activity']=='urination') & (df_main['variance']>7))]\n",
    "\n",
    "# 'Skewness' (4 Rows)\n",
    "df_main=df_main[~((df_main['activity']=='defecation') & (df_main['skewness']>10))]\n",
    "df_main=df_main[~((df_main['activity']=='non_elimination') & (df_main['skewness']>11))]\n",
    "df_main=df_main[~((df_main['activity']=='urination') & (df_main['skewness']>12))]\n",
    "\n",
    "# 'Acceleration' (20 Rows)\n",
    "df_main=df_main[~((df_main['activity']=='defecation') & (df_main['acceleration']>0.41))]\n",
    "df_main=df_main[~((df_main['activity']=='non_elimination') & (df_main['acceleration']>0.34))]\n",
    "df_main=df_main[~((df_main['activity']=='urination') & (df_main['acceleration']>0.34))]\n",
    "\n",
    "# 'Jerk' (22 Rows)\n",
    "df_main=df_main[~((df_main['activity']=='defecation') & (df_main['jerk']>7))]\n",
    "df_main=df_main[~((df_main['activity']=='non_elimination') & (df_main['jerk']>6))]\n",
    "df_main=df_main[~((df_main['activity']=='urination') & (df_main['jerk']>5.8))]\n",
    "\n",
    "# 'Velocity' (23 Rows)\n",
    "df_main=df_main[~((df_main['activity']=='defecation') & (df_main['velocity']>45))]\n",
    "df_main=df_main[~((df_main['activity']=='non_elimination') & (df_main['velocity']>32))]\n",
    "df_main=df_main[~((df_main['activity']=='urination') & (df_main['velocity']>34))]\n",
    "\n",
    "# 'Energy' (34 Rows)\n",
    "df_main=df_main[~((df_main['activity']=='defecation') & (df_main['energy']>5000))]\n",
    "df_main=df_main[~((df_main['activity']=='non_elimination') & (df_main['energy']>2100))]\n",
    "df_main=df_main[~((df_main['activity']=='urination') & (df_main['energy']>3000))]\n",
    "\n",
    "# 'Power' (34 Rows)\n",
    "df_main=df_main[~((df_main['activity']=='defecation') & (df_main['power']>47))]\n",
    "df_main=df_main[~((df_main['activity']=='non_elimination') & (df_main['power']>20))]\n",
    "df_main=df_main[~((df_main['activity']=='urination') & (df_main['power']>27))]\n",
    "\n",
    "# 'Momentum' (21 Rows)\n",
    "df_main=df_main[~((df_main['activity']=='defecation') & (df_main['momentum']>195))]\n",
    "df_main=df_main[~((df_main['activity']=='non_elimination') & (df_main['momentum']>125))]\n",
    "df_main=df_main[~((df_main['activity']=='urination') & (df_main['momentum']>135))]\n",
    "\n",
    "df_main=df_main[~((df_main['activity']=='defecation') & (df_main['energy']>4500))]\n",
    "\n",
    "df_main.shape"
   ]
  },
  {
   "cell_type": "markdown",
   "id": "df9b295f",
   "metadata": {},
   "source": [
    "### 3. Final Data"
   ]
  },
  {
   "cell_type": "code",
   "execution_count": 8,
   "id": "19fa10a1",
   "metadata": {},
   "outputs": [
    {
     "data": {
      "text/html": [
       "<div>\n",
       "<style scoped>\n",
       "    .dataframe tbody tr th:only-of-type {\n",
       "        vertical-align: middle;\n",
       "    }\n",
       "\n",
       "    .dataframe tbody tr th {\n",
       "        vertical-align: top;\n",
       "    }\n",
       "\n",
       "    .dataframe thead th {\n",
       "        text-align: right;\n",
       "    }\n",
       "</style>\n",
       "<table border=\"1\" class=\"dataframe\">\n",
       "  <thead>\n",
       "    <tr style=\"text-align: right;\">\n",
       "      <th></th>\n",
       "      <th>duration</th>\n",
       "      <th>change_in_load</th>\n",
       "      <th>variance</th>\n",
       "      <th>maximum</th>\n",
       "      <th>median</th>\n",
       "      <th>skewness</th>\n",
       "      <th>kurtosis</th>\n",
       "      <th>jerk</th>\n",
       "      <th>velocity</th>\n",
       "      <th>energy</th>\n",
       "      <th>power</th>\n",
       "      <th>momentum</th>\n",
       "      <th>activity1_elemination</th>\n",
       "    </tr>\n",
       "  </thead>\n",
       "  <tbody>\n",
       "    <tr>\n",
       "      <th>0</th>\n",
       "      <td>163.975000</td>\n",
       "      <td>1.114670</td>\n",
       "      <td>2.425972</td>\n",
       "      <td>14.11659</td>\n",
       "      <td>0.43164</td>\n",
       "      <td>2.088879</td>\n",
       "      <td>5.125106</td>\n",
       "      <td>2.623752</td>\n",
       "      <td>18.629980</td>\n",
       "      <td>1422.404601</td>\n",
       "      <td>14.699895</td>\n",
       "      <td>129.161654</td>\n",
       "      <td>1</td>\n",
       "    </tr>\n",
       "    <tr>\n",
       "      <th>1</th>\n",
       "      <td>204.774940</td>\n",
       "      <td>0.996088</td>\n",
       "      <td>2.262248</td>\n",
       "      <td>19.98297</td>\n",
       "      <td>0.32373</td>\n",
       "      <td>2.502551</td>\n",
       "      <td>9.150935</td>\n",
       "      <td>2.854197</td>\n",
       "      <td>20.030623</td>\n",
       "      <td>1626.238512</td>\n",
       "      <td>15.753942</td>\n",
       "      <td>129.217548</td>\n",
       "      <td>1</td>\n",
       "    </tr>\n",
       "    <tr>\n",
       "      <th>2</th>\n",
       "      <td>59.975000</td>\n",
       "      <td>0.292591</td>\n",
       "      <td>0.218968</td>\n",
       "      <td>4.16925</td>\n",
       "      <td>0.05886</td>\n",
       "      <td>2.892435</td>\n",
       "      <td>11.742110</td>\n",
       "      <td>0.638543</td>\n",
       "      <td>1.792097</td>\n",
       "      <td>13.463229</td>\n",
       "      <td>0.355113</td>\n",
       "      <td>12.974780</td>\n",
       "      <td>1</td>\n",
       "    </tr>\n",
       "    <tr>\n",
       "      <th>3</th>\n",
       "      <td>156.775000</td>\n",
       "      <td>0.952895</td>\n",
       "      <td>2.215583</td>\n",
       "      <td>12.43908</td>\n",
       "      <td>0.23544</td>\n",
       "      <td>2.385345</td>\n",
       "      <td>6.859419</td>\n",
       "      <td>2.379447</td>\n",
       "      <td>14.293334</td>\n",
       "      <td>898.360000</td>\n",
       "      <td>9.996573</td>\n",
       "      <td>101.825709</td>\n",
       "      <td>1</td>\n",
       "    </tr>\n",
       "    <tr>\n",
       "      <th>4</th>\n",
       "      <td>183.974939</td>\n",
       "      <td>1.174555</td>\n",
       "      <td>3.997131</td>\n",
       "      <td>15.75486</td>\n",
       "      <td>0.14715</td>\n",
       "      <td>2.486553</td>\n",
       "      <td>7.492540</td>\n",
       "      <td>2.929181</td>\n",
       "      <td>21.458935</td>\n",
       "      <td>2029.562636</td>\n",
       "      <td>17.758225</td>\n",
       "      <td>153.431382</td>\n",
       "      <td>1</td>\n",
       "    </tr>\n",
       "  </tbody>\n",
       "</table>\n",
       "</div>"
      ],
      "text/plain": [
       "     duration  change_in_load  variance   maximum   median  skewness  \\\n",
       "0  163.975000        1.114670  2.425972  14.11659  0.43164  2.088879   \n",
       "1  204.774940        0.996088  2.262248  19.98297  0.32373  2.502551   \n",
       "2   59.975000        0.292591  0.218968   4.16925  0.05886  2.892435   \n",
       "3  156.775000        0.952895  2.215583  12.43908  0.23544  2.385345   \n",
       "4  183.974939        1.174555  3.997131  15.75486  0.14715  2.486553   \n",
       "\n",
       "    kurtosis      jerk   velocity       energy      power    momentum  \\\n",
       "0   5.125106  2.623752  18.629980  1422.404601  14.699895  129.161654   \n",
       "1   9.150935  2.854197  20.030623  1626.238512  15.753942  129.217548   \n",
       "2  11.742110  0.638543   1.792097    13.463229   0.355113   12.974780   \n",
       "3   6.859419  2.379447  14.293334   898.360000   9.996573  101.825709   \n",
       "4   7.492540  2.929181  21.458935  2029.562636  17.758225  153.431382   \n",
       "\n",
       "   activity1_elemination  \n",
       "0                      1  \n",
       "1                      1  \n",
       "2                      1  \n",
       "3                      1  \n",
       "4                      1  "
      ]
     },
     "execution_count": 8,
     "metadata": {},
     "output_type": "execute_result"
    }
   ],
   "source": [
    "# Converting 'urination' and 'defecation' to 'elimination'\n",
    "elemination_condition = ['urination', 'defecation']\n",
    "df_main['activity1']=df_main['activity'].apply(lambda x: x if x not in elemination_condition else 'elemination')\n",
    "\n",
    "# Onehot encoding\n",
    "df_main=pd.get_dummies(df_main, columns=['activity1'])\n",
    "\n",
    "# Droping non numeric columns\n",
    "df_main.drop(['name','activity', 'start_time', 'activity1_non_elimination'],axis=1,inplace=True)\n",
    "\n",
    "# Dropping 'Weight' column as there are no variation shown across activities in boxplot of final EDA\n",
    "df_main.drop(['weight'], axis=1, inplace=True)\n",
    "\n",
    "### Deleting 0.9_quantile and acceleration column as a result of Backward elimination in modelling\n",
    "df_main.drop(['0.9_quantile', 'acceleration'], axis=1, inplace=True)\n",
    "df_main.head()"
   ]
  },
  {
   "cell_type": "code",
   "execution_count": 9,
   "id": "c84ac2a9",
   "metadata": {},
   "outputs": [
    {
     "data": {
      "text/plain": [
       "Index(['duration', 'change_in_load', 'variance', 'maximum', 'median',\n",
       "       'skewness', 'kurtosis', 'jerk', 'velocity', 'energy', 'power',\n",
       "       'momentum', 'activity1_elemination'],\n",
       "      dtype='object')"
      ]
     },
     "execution_count": 9,
     "metadata": {},
     "output_type": "execute_result"
    }
   ],
   "source": [
    "df_main.columns"
   ]
  },
  {
   "cell_type": "markdown",
   "id": "9a842cec",
   "metadata": {},
   "source": [
    "### 4. Upsampling"
   ]
  },
  {
   "cell_type": "code",
   "execution_count": 12,
   "id": "21fc5082",
   "metadata": {},
   "outputs": [],
   "source": [
    "df_majority = df_main[df_main.activity1_elemination==1]\n",
    "df_minority = df_main[df_main.activity1_elemination==0]\n",
    "\n",
    "df_upsampled = resample(df_minority, replace=True, n_samples=len(df_majority), random_state=0)\n",
    "\n",
    "df_main = pd.concat([df_majority, df_upsampled])"
   ]
  },
  {
   "cell_type": "markdown",
   "id": "675f46a6",
   "metadata": {},
   "source": [
    "# # Modelling"
   ]
  },
  {
   "cell_type": "markdown",
   "id": "c187dec7",
   "metadata": {},
   "source": [
    "### Data splitting to train, test and validation"
   ]
  },
  {
   "cell_type": "code",
   "execution_count": 13,
   "id": "314da950",
   "metadata": {},
   "outputs": [],
   "source": [
    "df_shuffeled=df_main.sample(frac=1,random_state=101)\n",
    "\n",
    "df_train=df_shuffeled[:int(len(df_shuffeled)*0.6)]\n",
    "df_validate=df_shuffeled[int(len(df_shuffeled)*.6):int(len(df_shuffeled)*0.8)]\n",
    "df_test=df_shuffeled[int(len(df_shuffeled)*0.8):]\n",
    "\n",
    "\n",
    "x_train = df_train.drop(columns='activity1_elemination')\n",
    "y_train = df_train['activity1_elemination']\n",
    "\n",
    "x_validate = df_validate.drop(columns='activity1_elemination')\n",
    "y_validate = df_validate['activity1_elemination']\n",
    "\n",
    "x_test = df_test.drop(columns='activity1_elemination')\n",
    "y_test = df_test['activity1_elemination']"
   ]
  },
  {
   "cell_type": "markdown",
   "id": "3a1e70a1",
   "metadata": {},
   "source": [
    "### Modelling Using Random Forest (Best Model)"
   ]
  },
  {
   "cell_type": "code",
   "execution_count": 14,
   "id": "555f8a57",
   "metadata": {},
   "outputs": [],
   "source": [
    "def error_metrics(actual, predicted, x_data):\n",
    "    print('Accuracy %age: ' + str(np.round(accuracy_score(actual, predicted)*100,2)))\n",
    "    print('ROC-AUC Score: ' + str(np.round(roc_auc_score(actual, classifier.predict_proba(x_data)[:,1]),2)))\n",
    "    print('\\nClassification Report: ')\n",
    "    print(classification_report(actual, predicted))\n",
    "    print('\\nConfusion Matrix: ')\n",
    "    print(confusion_matrix(actual, predicted))\n",
    "    return 'Done'"
   ]
  },
  {
   "cell_type": "markdown",
   "id": "9253e840",
   "metadata": {},
   "source": [
    "#### Training Set"
   ]
  },
  {
   "cell_type": "code",
   "execution_count": 15,
   "id": "a9d1d98e",
   "metadata": {},
   "outputs": [
    {
     "name": "stdout",
     "output_type": "stream",
     "text": [
      "\n",
      "Training\n",
      "--------------------------\n",
      "Accuracy %age: 90.37\n",
      "ROC-AUC Score: 0.96\n",
      "\n",
      "Classification Report: \n",
      "              precision    recall  f1-score   support\n",
      "\n",
      "           0       0.96      0.85      0.90      5267\n",
      "           1       0.86      0.96      0.91      5275\n",
      "\n",
      "    accuracy                           0.90     10542\n",
      "   macro avg       0.91      0.90      0.90     10542\n",
      "weighted avg       0.91      0.90      0.90     10542\n",
      "\n",
      "\n",
      "Confusion Matrix: \n",
      "[[4461  806]\n",
      " [ 209 5066]]\n"
     ]
    },
    {
     "data": {
      "text/plain": [
       "'Done'"
      ]
     },
     "execution_count": 15,
     "metadata": {},
     "output_type": "execute_result"
    }
   ],
   "source": [
    "classifier = RandomForestClassifier(n_estimators=10, criterion='entropy',max_depth =11, random_state=10)\n",
    "classifier.fit(x_train, y_train)\n",
    "\n",
    "print('\\nTraining\\n--------------------------')\n",
    "y_train_pred=classifier.predict(x_train)\n",
    "error_metrics(y_train, y_train_pred, x_train)"
   ]
  },
  {
   "cell_type": "markdown",
   "id": "1c83c679",
   "metadata": {},
   "source": [
    "#### Validation Set"
   ]
  },
  {
   "cell_type": "code",
   "execution_count": 16,
   "id": "c932e7a8",
   "metadata": {},
   "outputs": [
    {
     "name": "stdout",
     "output_type": "stream",
     "text": [
      "\n",
      "Validation\n",
      "--------------------------\n",
      "Accuracy %age: 92.74\n",
      "ROC-AUC Score: 0.97\n",
      "\n",
      "Classification Report: \n",
      "              precision    recall  f1-score   support\n",
      "\n",
      "           0       0.92      0.93      0.93      1745\n",
      "           1       0.93      0.92      0.93      1769\n",
      "\n",
      "    accuracy                           0.93      3514\n",
      "   macro avg       0.93      0.93      0.93      3514\n",
      "weighted avg       0.93      0.93      0.93      3514\n",
      "\n",
      "\n",
      "Confusion Matrix: \n",
      "[[1623  122]\n",
      " [ 133 1636]]\n"
     ]
    },
    {
     "data": {
      "text/plain": [
       "'Done'"
      ]
     },
     "execution_count": 16,
     "metadata": {},
     "output_type": "execute_result"
    }
   ],
   "source": [
    "classifier = RandomForestClassifier(n_estimators=51, criterion='entropy',max_depth =35, random_state=10)\n",
    "classifier.fit(x_train, y_train)\n",
    "\n",
    "print('\\nValidation\\n--------------------------')\n",
    "y_validate_pred=classifier.predict(x_validate)\n",
    "error_metrics(y_validate, y_validate_pred, x_validate)"
   ]
  },
  {
   "cell_type": "markdown",
   "id": "daa6ed12",
   "metadata": {},
   "source": [
    "#### Test Set"
   ]
  },
  {
   "cell_type": "code",
   "execution_count": 17,
   "id": "0811e1ca",
   "metadata": {},
   "outputs": [
    {
     "name": "stdout",
     "output_type": "stream",
     "text": [
      "\n",
      "Testing\n",
      "--------------------------\n",
      "Accuracy %age: 92.91\n",
      "ROC-AUC Score: 0.97\n",
      "\n",
      "Classification Report: \n",
      "              precision    recall  f1-score   support\n",
      "\n",
      "           0       0.92      0.94      0.93      1773\n",
      "           1       0.94      0.91      0.93      1741\n",
      "\n",
      "    accuracy                           0.93      3514\n",
      "   macro avg       0.93      0.93      0.93      3514\n",
      "weighted avg       0.93      0.93      0.93      3514\n",
      "\n",
      "\n",
      "Confusion Matrix: \n",
      "[[1675   98]\n",
      " [ 151 1590]]\n"
     ]
    },
    {
     "data": {
      "text/plain": [
       "'Done'"
      ]
     },
     "execution_count": 17,
     "metadata": {},
     "output_type": "execute_result"
    }
   ],
   "source": [
    "classifier = RandomForestClassifier(n_estimators=55, criterion='entropy',max_depth =35, random_state=10)\n",
    "classifier.fit(x_train, y_train)\n",
    "\n",
    "print('\\nTesting\\n--------------------------')\n",
    "y_test_pred=classifier.predict(x_test)\n",
    "error_metrics(y_test, y_test_pred, x_test)"
   ]
  },
  {
   "cell_type": "markdown",
   "id": "c60c38a0",
   "metadata": {},
   "source": [
    "### Feature Importance"
   ]
  },
  {
   "cell_type": "code",
   "execution_count": 19,
   "id": "cd1a963a",
   "metadata": {},
   "outputs": [
    {
     "data": {
      "text/html": [
       "<div>\n",
       "<style scoped>\n",
       "    .dataframe tbody tr th:only-of-type {\n",
       "        vertical-align: middle;\n",
       "    }\n",
       "\n",
       "    .dataframe tbody tr th {\n",
       "        vertical-align: top;\n",
       "    }\n",
       "\n",
       "    .dataframe thead th {\n",
       "        text-align: right;\n",
       "    }\n",
       "</style>\n",
       "<table border=\"1\" class=\"dataframe\">\n",
       "  <thead>\n",
       "    <tr style=\"text-align: right;\">\n",
       "      <th></th>\n",
       "      <th>Features</th>\n",
       "      <th>Importance</th>\n",
       "    </tr>\n",
       "  </thead>\n",
       "  <tbody>\n",
       "    <tr>\n",
       "      <th>0</th>\n",
       "      <td>duration</td>\n",
       "      <td>0.136969</td>\n",
       "    </tr>\n",
       "    <tr>\n",
       "      <th>1</th>\n",
       "      <td>velocity</td>\n",
       "      <td>0.124989</td>\n",
       "    </tr>\n",
       "    <tr>\n",
       "      <th>2</th>\n",
       "      <td>energy</td>\n",
       "      <td>0.122295</td>\n",
       "    </tr>\n",
       "    <tr>\n",
       "      <th>3</th>\n",
       "      <td>momentum</td>\n",
       "      <td>0.104918</td>\n",
       "    </tr>\n",
       "    <tr>\n",
       "      <th>4</th>\n",
       "      <td>change_in_load</td>\n",
       "      <td>0.076042</td>\n",
       "    </tr>\n",
       "    <tr>\n",
       "      <th>5</th>\n",
       "      <td>power</td>\n",
       "      <td>0.073397</td>\n",
       "    </tr>\n",
       "    <tr>\n",
       "      <th>6</th>\n",
       "      <td>jerk</td>\n",
       "      <td>0.065486</td>\n",
       "    </tr>\n",
       "    <tr>\n",
       "      <th>7</th>\n",
       "      <td>median</td>\n",
       "      <td>0.062979</td>\n",
       "    </tr>\n",
       "    <tr>\n",
       "      <th>8</th>\n",
       "      <td>variance</td>\n",
       "      <td>0.061024</td>\n",
       "    </tr>\n",
       "    <tr>\n",
       "      <th>9</th>\n",
       "      <td>kurtosis</td>\n",
       "      <td>0.059304</td>\n",
       "    </tr>\n",
       "    <tr>\n",
       "      <th>10</th>\n",
       "      <td>skewness</td>\n",
       "      <td>0.056931</td>\n",
       "    </tr>\n",
       "    <tr>\n",
       "      <th>11</th>\n",
       "      <td>maximum</td>\n",
       "      <td>0.055665</td>\n",
       "    </tr>\n",
       "  </tbody>\n",
       "</table>\n",
       "</div>"
      ],
      "text/plain": [
       "          Features  Importance\n",
       "0         duration    0.136969\n",
       "1         velocity    0.124989\n",
       "2           energy    0.122295\n",
       "3         momentum    0.104918\n",
       "4   change_in_load    0.076042\n",
       "5            power    0.073397\n",
       "6             jerk    0.065486\n",
       "7           median    0.062979\n",
       "8         variance    0.061024\n",
       "9         kurtosis    0.059304\n",
       "10        skewness    0.056931\n",
       "11         maximum    0.055665"
      ]
     },
     "execution_count": 19,
     "metadata": {},
     "output_type": "execute_result"
    }
   ],
   "source": [
    "feature_importance_df = pd.DataFrame()\n",
    "feature_importance_df['Features'] = x_test.columns\n",
    "feature_importance_df['Importance'] = classifier.feature_importances_\n",
    "feature_importance_df = feature_importance_df.sort_values(by='Importance', ascending=False).reset_index(drop=True)\n",
    "feature_importance_df"
   ]
  },
  {
   "cell_type": "code",
   "execution_count": 20,
   "id": "445271e8",
   "metadata": {},
   "outputs": [
    {
     "data": {
      "text/plain": [
       "<AxesSubplot: xlabel='Importance', ylabel='Features'>"
      ]
     },
     "execution_count": 20,
     "metadata": {},
     "output_type": "execute_result"
    },
    {
     "data": {
      "image/png": "[encoded data removed]",
      "text/plain": [
       "<Figure size 720x360 with 1 Axes>"
      ]
     },
     "metadata": {
      "needs_background": "light"
     },
     "output_type": "display_data"
    }
   ],
   "source": [
    "plt.figure(figsize = (10,5))\n",
    "sns.barplot(x = 'Importance', y = 'Features', data = feature_importance_df)"
   ]
  },
  {
   "cell_type": "markdown",
   "id": "644e14cc",
   "metadata": {},
   "source": [
    "# # Residual Analysis"
   ]
  },
  {
   "cell_type": "markdown",
   "id": "915960cd",
   "metadata": {},
   "source": [
    "### Using Random Forest Test set"
   ]
  },
  {
   "cell_type": "code",
   "execution_count": 21,
   "id": "4afe4d57",
   "metadata": {
    "scrolled": true
   },
   "outputs": [
    {
     "data": {
      "text/html": [
       "<div>\n",
       "<style scoped>\n",
       "    .dataframe tbody tr th:only-of-type {\n",
       "        vertical-align: middle;\n",
       "    }\n",
       "\n",
       "    .dataframe tbody tr th {\n",
       "        vertical-align: top;\n",
       "    }\n",
       "\n",
       "    .dataframe thead th {\n",
       "        text-align: right;\n",
       "    }\n",
       "</style>\n",
       "<table border=\"1\" class=\"dataframe\">\n",
       "  <thead>\n",
       "    <tr style=\"text-align: right;\">\n",
       "      <th></th>\n",
       "      <th>duration</th>\n",
       "      <th>change_in_load</th>\n",
       "      <th>variance</th>\n",
       "      <th>maximum</th>\n",
       "      <th>median</th>\n",
       "      <th>skewness</th>\n",
       "      <th>kurtosis</th>\n",
       "      <th>jerk</th>\n",
       "      <th>velocity</th>\n",
       "      <th>energy</th>\n",
       "      <th>power</th>\n",
       "      <th>momentum</th>\n",
       "      <th>activity1_elemination</th>\n",
       "    </tr>\n",
       "  </thead>\n",
       "  <tbody>\n",
       "    <tr>\n",
       "      <th>0</th>\n",
       "      <td>163.975000</td>\n",
       "      <td>1.114670</td>\n",
       "      <td>2.425972</td>\n",
       "      <td>14.11659</td>\n",
       "      <td>0.43164</td>\n",
       "      <td>2.088879</td>\n",
       "      <td>5.125106</td>\n",
       "      <td>2.623752</td>\n",
       "      <td>18.629980</td>\n",
       "      <td>1422.404601</td>\n",
       "      <td>14.699895</td>\n",
       "      <td>129.161654</td>\n",
       "      <td>1</td>\n",
       "    </tr>\n",
       "    <tr>\n",
       "      <th>1</th>\n",
       "      <td>204.774940</td>\n",
       "      <td>0.996088</td>\n",
       "      <td>2.262248</td>\n",
       "      <td>19.98297</td>\n",
       "      <td>0.32373</td>\n",
       "      <td>2.502551</td>\n",
       "      <td>9.150935</td>\n",
       "      <td>2.854197</td>\n",
       "      <td>20.030623</td>\n",
       "      <td>1626.238512</td>\n",
       "      <td>15.753942</td>\n",
       "      <td>129.217548</td>\n",
       "      <td>1</td>\n",
       "    </tr>\n",
       "    <tr>\n",
       "      <th>2</th>\n",
       "      <td>59.975000</td>\n",
       "      <td>0.292591</td>\n",
       "      <td>0.218968</td>\n",
       "      <td>4.16925</td>\n",
       "      <td>0.05886</td>\n",
       "      <td>2.892435</td>\n",
       "      <td>11.742110</td>\n",
       "      <td>0.638543</td>\n",
       "      <td>1.792097</td>\n",
       "      <td>13.463229</td>\n",
       "      <td>0.355113</td>\n",
       "      <td>12.974780</td>\n",
       "      <td>1</td>\n",
       "    </tr>\n",
       "    <tr>\n",
       "      <th>3</th>\n",
       "      <td>156.775000</td>\n",
       "      <td>0.952895</td>\n",
       "      <td>2.215583</td>\n",
       "      <td>12.43908</td>\n",
       "      <td>0.23544</td>\n",
       "      <td>2.385345</td>\n",
       "      <td>6.859419</td>\n",
       "      <td>2.379447</td>\n",
       "      <td>14.293334</td>\n",
       "      <td>898.360000</td>\n",
       "      <td>9.996573</td>\n",
       "      <td>101.825709</td>\n",
       "      <td>1</td>\n",
       "    </tr>\n",
       "    <tr>\n",
       "      <th>4</th>\n",
       "      <td>183.974939</td>\n",
       "      <td>1.174555</td>\n",
       "      <td>3.997131</td>\n",
       "      <td>15.75486</td>\n",
       "      <td>0.14715</td>\n",
       "      <td>2.486553</td>\n",
       "      <td>7.492540</td>\n",
       "      <td>2.929181</td>\n",
       "      <td>21.458935</td>\n",
       "      <td>2029.562636</td>\n",
       "      <td>17.758225</td>\n",
       "      <td>153.431382</td>\n",
       "      <td>1</td>\n",
       "    </tr>\n",
       "  </tbody>\n",
       "</table>\n",
       "</div>"
      ],
      "text/plain": [
       "     duration  change_in_load  variance   maximum   median  skewness  \\\n",
       "0  163.975000        1.114670  2.425972  14.11659  0.43164  2.088879   \n",
       "1  204.774940        0.996088  2.262248  19.98297  0.32373  2.502551   \n",
       "2   59.975000        0.292591  0.218968   4.16925  0.05886  2.892435   \n",
       "3  156.775000        0.952895  2.215583  12.43908  0.23544  2.385345   \n",
       "4  183.974939        1.174555  3.997131  15.75486  0.14715  2.486553   \n",
       "\n",
       "    kurtosis      jerk   velocity       energy      power    momentum  \\\n",
       "0   5.125106  2.623752  18.629980  1422.404601  14.699895  129.161654   \n",
       "1   9.150935  2.854197  20.030623  1626.238512  15.753942  129.217548   \n",
       "2  11.742110  0.638543   1.792097    13.463229   0.355113   12.974780   \n",
       "3   6.859419  2.379447  14.293334   898.360000   9.996573  101.825709   \n",
       "4   7.492540  2.929181  21.458935  2029.562636  17.758225  153.431382   \n",
       "\n",
       "   activity1_elemination  \n",
       "0                      1  \n",
       "1                      1  \n",
       "2                      1  \n",
       "3                      1  \n",
       "4                      1  "
      ]
     },
     "execution_count": 21,
     "metadata": {},
     "output_type": "execute_result"
    }
   ],
   "source": [
    "df_main.head()"
   ]
  },
  {
   "cell_type": "code",
   "execution_count": 22,
   "id": "64a23a2d",
   "metadata": {},
   "outputs": [
    {
     "name": "stdout",
     "output_type": "stream",
     "text": [
      "\n",
      "Testing\n",
      "--------------------------\n",
      "Accuracy %age: 92.91\n",
      "ROC-AUC Score: 0.97\n",
      "\n",
      "Classification Report: \n",
      "              precision    recall  f1-score   support\n",
      "\n",
      "           0       0.92      0.94      0.93      1773\n",
      "           1       0.94      0.91      0.93      1741\n",
      "\n",
      "    accuracy                           0.93      3514\n",
      "   macro avg       0.93      0.93      0.93      3514\n",
      "weighted avg       0.93      0.93      0.93      3514\n",
      "\n",
      "\n",
      "Confusion Matrix: \n",
      "[[1675   98]\n",
      " [ 151 1590]]\n"
     ]
    },
    {
     "data": {
      "text/plain": [
       "'Done'"
      ]
     },
     "execution_count": 22,
     "metadata": {},
     "output_type": "execute_result"
    }
   ],
   "source": [
    "classifier = RandomForestClassifier(n_estimators=55, criterion='entropy',max_depth =35, random_state=10)\n",
    "classifier.fit(x_train, y_train)\n",
    "\n",
    "print('\\nTesting\\n--------------------------')\n",
    "y_test_pred=classifier.predict(x_test)\n",
    "error_metrics(y_test, y_test_pred, x_test)"
   ]
  },
  {
   "cell_type": "markdown",
   "id": "f0894bbb",
   "metadata": {},
   "source": [
    "### 1. Falsely identified as Non-elimination (False 0)"
   ]
  },
  {
   "cell_type": "markdown",
   "id": "5ed935bf",
   "metadata": {},
   "source": [
    "#### Number of Rows misidentified as Non-elimination"
   ]
  },
  {
   "cell_type": "code",
   "execution_count": 97,
   "id": "13acab68",
   "metadata": {
    "scrolled": false
   },
   "outputs": [
    {
     "data": {
      "text/plain": [
       "(151, 12)"
      ]
     },
     "execution_count": 97,
     "metadata": {},
     "output_type": "execute_result"
    }
   ],
   "source": [
    "False_0 = x_test[(y_test == 1) & (y_test_pred[:].T == 0)]\n",
    "False_0.shape"
   ]
  },
  {
   "cell_type": "markdown",
   "id": "332d5a86",
   "metadata": {},
   "source": [
    "#### Features average value for 'Elimination'"
   ]
  },
  {
   "cell_type": "code",
   "execution_count": 99,
   "id": "b28f1483",
   "metadata": {
    "scrolled": true
   },
   "outputs": [
    {
     "data": {
      "text/plain": [
       "duration          126.132674\n",
       "change_in_load      0.593965\n",
       "variance            0.870689\n",
       "maximum            12.121900\n",
       "median              0.262172\n",
       "skewness            4.728600\n",
       "kurtosis           39.373868\n",
       "jerk                2.027612\n",
       "velocity            9.605335\n",
       "energy            388.560718\n",
       "power               5.783112\n",
       "momentum           46.382069\n",
       "dtype: float64"
      ]
     },
     "execution_count": 99,
     "metadata": {},
     "output_type": "execute_result"
    }
   ],
   "source": [
    "df_main_elimination=df_main[df_main['activity1_elemination']==1]\n",
    "elimination_mean=df_main_elimination[['duration', 'change_in_load', 'variance', 'maximum', 'median',\n",
    "       'skewness', 'kurtosis', 'jerk', 'velocity', 'energy', 'power',\n",
    "       'momentum']].mean()\n",
    "elimination_mean"
   ]
  },
  {
   "cell_type": "markdown",
   "id": "19d1f95f",
   "metadata": {},
   "source": [
    "#### Features average value for 'Non-limination'"
   ]
  },
  {
   "cell_type": "code",
   "execution_count": 100,
   "id": "1617cf60",
   "metadata": {
    "scrolled": true
   },
   "outputs": [
    {
     "data": {
      "text/plain": [
       "duration           79.477619\n",
       "change_in_load      0.449500\n",
       "variance            0.959261\n",
       "maximum            10.849958\n",
       "median              0.159467\n",
       "skewness            5.473418\n",
       "kurtosis           46.532048\n",
       "jerk                1.699697\n",
       "velocity            4.651347\n",
       "energy            110.534918\n",
       "power               2.001839\n",
       "momentum           21.799794\n",
       "dtype: float64"
      ]
     },
     "execution_count": 100,
     "metadata": {},
     "output_type": "execute_result"
    }
   ],
   "source": [
    "df_main_nonelimination=df_main[df_main['activity1_elemination']==0]\n",
    "nonelimination_mean=df_main_nonelimination[['duration', 'change_in_load', 'variance', 'maximum', 'median',\n",
    "       'skewness', 'kurtosis', 'jerk', 'velocity', 'energy', 'power',\n",
    "       'momentum']].mean()\n",
    "nonelimination_mean"
   ]
  },
  {
   "cell_type": "markdown",
   "id": "833a5b96",
   "metadata": {},
   "source": [
    "#### Features average values for elimination misidentified as non-elimination"
   ]
  },
  {
   "cell_type": "code",
   "execution_count": 101,
   "id": "e0c64a68",
   "metadata": {},
   "outputs": [
    {
     "data": {
      "text/plain": [
       "duration          85.857001\n",
       "change_in_load     0.382598\n",
       "variance           0.766083\n",
       "maximum           10.207825\n",
       "median             0.116745\n",
       "skewness           5.678733\n",
       "kurtosis          49.795561\n",
       "jerk               1.532774\n",
       "velocity           4.175559\n",
       "energy            61.174889\n",
       "power              1.448917\n",
       "momentum          19.278685\n",
       "dtype: float64"
      ]
     },
     "execution_count": 101,
     "metadata": {},
     "output_type": "execute_result"
    }
   ],
   "source": [
    "False_0_mean=False_0[['duration', 'change_in_load', 'variance', 'maximum', 'median',\n",
    "       'skewness', 'kurtosis', 'jerk', 'velocity', 'energy', 'power',\n",
    "       'momentum']].mean()\n",
    "False_0_mean"
   ]
  },
  {
   "cell_type": "markdown",
   "id": "11a53a09",
   "metadata": {},
   "source": [
    "#### Table of Feature's mean"
   ]
  },
  {
   "cell_type": "code",
   "execution_count": 104,
   "id": "0dee42b6",
   "metadata": {},
   "outputs": [
    {
     "data": {
      "text/html": [
       "<div>\n",
       "<style scoped>\n",
       "    .dataframe tbody tr th:only-of-type {\n",
       "        vertical-align: middle;\n",
       "    }\n",
       "\n",
       "    .dataframe tbody tr th {\n",
       "        vertical-align: top;\n",
       "    }\n",
       "\n",
       "    .dataframe thead th {\n",
       "        text-align: right;\n",
       "    }\n",
       "</style>\n",
       "<table border=\"1\" class=\"dataframe\">\n",
       "  <thead>\n",
       "    <tr style=\"text-align: right;\">\n",
       "      <th></th>\n",
       "      <th>Elimination</th>\n",
       "      <th>Non-elimination</th>\n",
       "      <th>Misidentified_as_nonelimination</th>\n",
       "    </tr>\n",
       "  </thead>\n",
       "  <tbody>\n",
       "    <tr>\n",
       "      <th>duration</th>\n",
       "      <td>126.132674</td>\n",
       "      <td>79.477619</td>\n",
       "      <td>85.857001</td>\n",
       "    </tr>\n",
       "    <tr>\n",
       "      <th>change_in_load</th>\n",
       "      <td>0.593965</td>\n",
       "      <td>0.449500</td>\n",
       "      <td>0.382598</td>\n",
       "    </tr>\n",
       "    <tr>\n",
       "      <th>variance</th>\n",
       "      <td>0.870689</td>\n",
       "      <td>0.959261</td>\n",
       "      <td>0.766083</td>\n",
       "    </tr>\n",
       "    <tr>\n",
       "      <th>maximum</th>\n",
       "      <td>12.121900</td>\n",
       "      <td>10.849958</td>\n",
       "      <td>10.207825</td>\n",
       "    </tr>\n",
       "    <tr>\n",
       "      <th>median</th>\n",
       "      <td>0.262172</td>\n",
       "      <td>0.159467</td>\n",
       "      <td>0.116745</td>\n",
       "    </tr>\n",
       "    <tr>\n",
       "      <th>skewness</th>\n",
       "      <td>4.728600</td>\n",
       "      <td>5.473418</td>\n",
       "      <td>5.678733</td>\n",
       "    </tr>\n",
       "    <tr>\n",
       "      <th>kurtosis</th>\n",
       "      <td>39.373868</td>\n",
       "      <td>46.532048</td>\n",
       "      <td>49.795561</td>\n",
       "    </tr>\n",
       "    <tr>\n",
       "      <th>jerk</th>\n",
       "      <td>2.027612</td>\n",
       "      <td>1.699697</td>\n",
       "      <td>1.532774</td>\n",
       "    </tr>\n",
       "    <tr>\n",
       "      <th>velocity</th>\n",
       "      <td>9.605335</td>\n",
       "      <td>4.651347</td>\n",
       "      <td>4.175559</td>\n",
       "    </tr>\n",
       "    <tr>\n",
       "      <th>energy</th>\n",
       "      <td>388.560718</td>\n",
       "      <td>110.534918</td>\n",
       "      <td>61.174889</td>\n",
       "    </tr>\n",
       "    <tr>\n",
       "      <th>power</th>\n",
       "      <td>5.783112</td>\n",
       "      <td>2.001839</td>\n",
       "      <td>1.448917</td>\n",
       "    </tr>\n",
       "    <tr>\n",
       "      <th>momentum</th>\n",
       "      <td>46.382069</td>\n",
       "      <td>21.799794</td>\n",
       "      <td>19.278685</td>\n",
       "    </tr>\n",
       "  </tbody>\n",
       "</table>\n",
       "</div>"
      ],
      "text/plain": [
       "                Elimination  Non-elimination  Misidentified_as_nonelimination\n",
       "duration         126.132674        79.477619                        85.857001\n",
       "change_in_load     0.593965         0.449500                         0.382598\n",
       "variance           0.870689         0.959261                         0.766083\n",
       "maximum           12.121900        10.849958                        10.207825\n",
       "median             0.262172         0.159467                         0.116745\n",
       "skewness           4.728600         5.473418                         5.678733\n",
       "kurtosis          39.373868        46.532048                        49.795561\n",
       "jerk               2.027612         1.699697                         1.532774\n",
       "velocity           9.605335         4.651347                         4.175559\n",
       "energy           388.560718       110.534918                        61.174889\n",
       "power              5.783112         2.001839                         1.448917\n",
       "momentum          46.382069        21.799794                        19.278685"
      ]
     },
     "execution_count": 104,
     "metadata": {},
     "output_type": "execute_result"
    }
   ],
   "source": [
    "data = {\"Elimination\": elimination_mean,\n",
    "        \"Non-elimination\": nonelimination_mean,\n",
    "        \"Misidentified_as_nonelimination\": False_0_mean}\n",
    "df_mean = pd.concat(data,axis = 1)\n",
    "df_mean"
   ]
  },
  {
   "cell_type": "markdown",
   "id": "01153435",
   "metadata": {},
   "source": [
    "#### ( Those elimination has features value nearer to non-elimination values are misidentified as non-elimination )"
   ]
  },
  {
   "cell_type": "markdown",
   "id": "3773ed5d",
   "metadata": {},
   "source": [
    "#### Box plots of elimination misidentified as non-elimination"
   ]
  },
  {
   "cell_type": "code",
   "execution_count": 30,
   "id": "5b767ee4",
   "metadata": {},
   "outputs": [
    {
     "data": {
      "text/plain": [
       "Index(['duration', 'skewness', 'change_in_load', 'jerk', 'velocity', 'energy',\n",
       "       'power', 'momentum'],\n",
       "      dtype='object')"
      ]
     },
     "execution_count": 30,
     "metadata": {},
     "output_type": "execute_result"
    }
   ],
   "source": [
    "False_0 = False_0[['duration', 'skewness', 'change_in_load', 'jerk', 'velocity', 'energy', 'power','momentum']]\n",
    "False_0.columns"
   ]
  },
  {
   "cell_type": "code",
   "execution_count": 31,
   "id": "918968ad",
   "metadata": {},
   "outputs": [
    {
     "data": {
      "image/png": "[encoded data removed]",
      "text/plain": [
       "<Figure size 1440x720 with 8 Axes>"
      ]
     },
     "metadata": {
      "needs_background": "light"
     },
     "output_type": "display_data"
    }
   ],
   "source": [
    "#Creating subplot of each column with its own scale\n",
    "red_circle = dict(markerfacecolor='red', marker='o', markeredgecolor='white')\n",
    "\n",
    "fig, axs = plt.subplots(1, len(False_0.columns), figsize=(20,10))\n",
    "\n",
    "for i, ax in enumerate(axs.flat):\n",
    "    ax.boxplot(False_0.iloc[:,i], flierprops=red_circle)\n",
    "    ax.set_title(False_0.columns[i], fontsize=20, fontweight='bold')\n",
    "    ax.tick_params(axis='y', labelsize=14)\n",
    "    \n",
    "plt.tight_layout()"
   ]
  },
  {
   "cell_type": "markdown",
   "id": "7dcac7df",
   "metadata": {},
   "source": [
    "#### Count of urination and defication among misidentified as non-elimination"
   ]
  },
  {
   "cell_type": "code",
   "execution_count": 61,
   "id": "34d3a5e0",
   "metadata": {},
   "outputs": [
    {
     "name": "stdout",
     "output_type": "stream",
     "text": [
      "Urination Rows : 141\n",
      "Defecation Rows : 10\n"
     ]
    }
   ],
   "source": [
    "# List of index number of misidentfied as non-elimination:\n",
    "index_list=list(False_0.index)\n",
    "\n",
    "# Activities of misidentfied rows:\n",
    "df_main2=df_main1.copy()\n",
    "urination_count=0\n",
    "defecation_count=0\n",
    "for index in index_list:\n",
    "    if df_main2.loc[index]['activity']=='urination':\n",
    "        urination_count +=1\n",
    "    else:\n",
    "        defecation_count +=1\n",
    "print( 'Urination Rows : '+str(urination_count))\n",
    "print( 'Defecation Rows : '+str(defecation_count))"
   ]
  },
  {
   "cell_type": "markdown",
   "id": "9099e801",
   "metadata": {},
   "source": [
    "#### ( Among the rows misidentified as non-elimination, 141 rows are urination & 10 rows are defecation )"
   ]
  },
  {
   "cell_type": "markdown",
   "id": "2741a51f",
   "metadata": {},
   "source": [
    "### 2. Falsely identified as Elimination (False 1)"
   ]
  },
  {
   "cell_type": "markdown",
   "id": "9b2f9c63",
   "metadata": {},
   "source": [
    "#### Number of Rows misidentified as Elimination"
   ]
  },
  {
   "cell_type": "code",
   "execution_count": 73,
   "id": "4de5c61b",
   "metadata": {},
   "outputs": [
    {
     "data": {
      "text/plain": [
       "(98, 12)"
      ]
     },
     "execution_count": 73,
     "metadata": {},
     "output_type": "execute_result"
    }
   ],
   "source": [
    "False_1 = x_test[(y_test == 0) & (y_test_pred[:].T == 1)]\n",
    "False_1.shape"
   ]
  },
  {
   "cell_type": "markdown",
   "id": "6e02d425",
   "metadata": {},
   "source": [
    "#### Features average value for 'Elimination'"
   ]
  },
  {
   "cell_type": "code",
   "execution_count": 93,
   "id": "f662d22b",
   "metadata": {},
   "outputs": [
    {
     "data": {
      "text/plain": [
       "duration          126.132674\n",
       "change_in_load      0.593965\n",
       "variance            0.870689\n",
       "maximum            12.121900\n",
       "median              0.262172\n",
       "skewness            4.728600\n",
       "kurtosis           39.373868\n",
       "jerk                2.027612\n",
       "velocity            9.605335\n",
       "energy            388.560718\n",
       "power               5.783112\n",
       "momentum           46.382069\n",
       "dtype: float64"
      ]
     },
     "execution_count": 93,
     "metadata": {},
     "output_type": "execute_result"
    }
   ],
   "source": [
    "df_main_elimination=df_main[df_main['activity1_elemination']==1]\n",
    "elimination_mean = df_main_elimination[['duration', 'change_in_load', 'variance', 'maximum', 'median',\n",
    "       'skewness', 'kurtosis', 'jerk', 'velocity', 'energy', 'power',\n",
    "       'momentum']].mean()\n",
    "elimination_mean"
   ]
  },
  {
   "cell_type": "markdown",
   "id": "531c5b16",
   "metadata": {},
   "source": [
    "#### Features average value for 'Non-limination'"
   ]
  },
  {
   "cell_type": "code",
   "execution_count": 94,
   "id": "5f19b30f",
   "metadata": {},
   "outputs": [
    {
     "data": {
      "text/plain": [
       "duration           79.477619\n",
       "change_in_load      0.449500\n",
       "variance            0.959261\n",
       "maximum            10.849958\n",
       "median              0.159467\n",
       "skewness            5.473418\n",
       "kurtosis           46.532048\n",
       "jerk                1.699697\n",
       "velocity            4.651347\n",
       "energy            110.534918\n",
       "power               2.001839\n",
       "momentum           21.799794\n",
       "dtype: float64"
      ]
     },
     "execution_count": 94,
     "metadata": {},
     "output_type": "execute_result"
    }
   ],
   "source": [
    "df_main_nonelimination=df_main[df_main['activity1_elemination']==0]\n",
    "nonelimination_mean=df_main_nonelimination[['duration', 'change_in_load', 'variance', 'maximum', 'median',\n",
    "       'skewness', 'kurtosis', 'jerk', 'velocity', 'energy', 'power',\n",
    "       'momentum']].mean()\n",
    "nonelimination_mean"
   ]
  },
  {
   "cell_type": "markdown",
   "id": "44f0f127",
   "metadata": {},
   "source": [
    "#### Features average values for non-elimination misidentified as elimination"
   ]
  },
  {
   "cell_type": "code",
   "execution_count": 95,
   "id": "d9156fc6",
   "metadata": {},
   "outputs": [
    {
     "data": {
      "text/plain": [
       "duration          110.217565\n",
       "change_in_load      0.532211\n",
       "variance            0.879497\n",
       "maximum            12.183706\n",
       "median              0.227031\n",
       "skewness            4.894003\n",
       "kurtosis           40.906361\n",
       "jerk                2.008723\n",
       "velocity            7.516169\n",
       "energy            235.102114\n",
       "power               3.942217\n",
       "momentum           36.172221\n",
       "dtype: float64"
      ]
     },
     "execution_count": 95,
     "metadata": {},
     "output_type": "execute_result"
    }
   ],
   "source": [
    "False_1_mean = False_1[['duration', 'change_in_load', 'variance', 'maximum', 'median',\n",
    "       'skewness', 'kurtosis', 'jerk', 'velocity', 'energy', 'power',\n",
    "       'momentum']].mean()\n",
    "False_1_mean"
   ]
  },
  {
   "cell_type": "markdown",
   "id": "027260b8",
   "metadata": {},
   "source": [
    "#### Table of Feature's mean"
   ]
  },
  {
   "cell_type": "code",
   "execution_count": 96,
   "id": "e58a099e",
   "metadata": {},
   "outputs": [
    {
     "data": {
      "text/html": [
       "<div>\n",
       "<style scoped>\n",
       "    .dataframe tbody tr th:only-of-type {\n",
       "        vertical-align: middle;\n",
       "    }\n",
       "\n",
       "    .dataframe tbody tr th {\n",
       "        vertical-align: top;\n",
       "    }\n",
       "\n",
       "    .dataframe thead th {\n",
       "        text-align: right;\n",
       "    }\n",
       "</style>\n",
       "<table border=\"1\" class=\"dataframe\">\n",
       "  <thead>\n",
       "    <tr style=\"text-align: right;\">\n",
       "      <th></th>\n",
       "      <th>Elimination</th>\n",
       "      <th>Non-elimination</th>\n",
       "      <th>Misidentified_as_elimination</th>\n",
       "    </tr>\n",
       "  </thead>\n",
       "  <tbody>\n",
       "    <tr>\n",
       "      <th>duration</th>\n",
       "      <td>126.132674</td>\n",
       "      <td>79.477619</td>\n",
       "      <td>110.217565</td>\n",
       "    </tr>\n",
       "    <tr>\n",
       "      <th>change_in_load</th>\n",
       "      <td>0.593965</td>\n",
       "      <td>0.449500</td>\n",
       "      <td>0.532211</td>\n",
       "    </tr>\n",
       "    <tr>\n",
       "      <th>variance</th>\n",
       "      <td>0.870689</td>\n",
       "      <td>0.959261</td>\n",
       "      <td>0.879497</td>\n",
       "    </tr>\n",
       "    <tr>\n",
       "      <th>maximum</th>\n",
       "      <td>12.121900</td>\n",
       "      <td>10.849958</td>\n",
       "      <td>12.183706</td>\n",
       "    </tr>\n",
       "    <tr>\n",
       "      <th>median</th>\n",
       "      <td>0.262172</td>\n",
       "      <td>0.159467</td>\n",
       "      <td>0.227031</td>\n",
       "    </tr>\n",
       "    <tr>\n",
       "      <th>skewness</th>\n",
       "      <td>4.728600</td>\n",
       "      <td>5.473418</td>\n",
       "      <td>4.894003</td>\n",
       "    </tr>\n",
       "    <tr>\n",
       "      <th>kurtosis</th>\n",
       "      <td>39.373868</td>\n",
       "      <td>46.532048</td>\n",
       "      <td>40.906361</td>\n",
       "    </tr>\n",
       "    <tr>\n",
       "      <th>jerk</th>\n",
       "      <td>2.027612</td>\n",
       "      <td>1.699697</td>\n",
       "      <td>2.008723</td>\n",
       "    </tr>\n",
       "    <tr>\n",
       "      <th>velocity</th>\n",
       "      <td>9.605335</td>\n",
       "      <td>4.651347</td>\n",
       "      <td>7.516169</td>\n",
       "    </tr>\n",
       "    <tr>\n",
       "      <th>energy</th>\n",
       "      <td>388.560718</td>\n",
       "      <td>110.534918</td>\n",
       "      <td>235.102114</td>\n",
       "    </tr>\n",
       "    <tr>\n",
       "      <th>power</th>\n",
       "      <td>5.783112</td>\n",
       "      <td>2.001839</td>\n",
       "      <td>3.942217</td>\n",
       "    </tr>\n",
       "    <tr>\n",
       "      <th>momentum</th>\n",
       "      <td>46.382069</td>\n",
       "      <td>21.799794</td>\n",
       "      <td>36.172221</td>\n",
       "    </tr>\n",
       "  </tbody>\n",
       "</table>\n",
       "</div>"
      ],
      "text/plain": [
       "                Elimination  Non-elimination  Misidentified_as_elimination\n",
       "duration         126.132674        79.477619                    110.217565\n",
       "change_in_load     0.593965         0.449500                      0.532211\n",
       "variance           0.870689         0.959261                      0.879497\n",
       "maximum           12.121900        10.849958                     12.183706\n",
       "median             0.262172         0.159467                      0.227031\n",
       "skewness           4.728600         5.473418                      4.894003\n",
       "kurtosis          39.373868        46.532048                     40.906361\n",
       "jerk               2.027612         1.699697                      2.008723\n",
       "velocity           9.605335         4.651347                      7.516169\n",
       "energy           388.560718       110.534918                    235.102114\n",
       "power              5.783112         2.001839                      3.942217\n",
       "momentum          46.382069        21.799794                     36.172221"
      ]
     },
     "execution_count": 96,
     "metadata": {},
     "output_type": "execute_result"
    }
   ],
   "source": [
    "data = {\"Elimination\": elimination_mean,\n",
    "        \"Non-elimination\": nonelimination_mean,\n",
    "        \"Misidentified_as_elimination\": False_1_mean}\n",
    "df_mean = pd.concat(data,\n",
    "               axis = 1)\n",
    "df_mean"
   ]
  },
  {
   "cell_type": "markdown",
   "id": "c5b7aabe",
   "metadata": {},
   "source": [
    "#### ( Those non-elimination has features value nearer to elimination values are misidentified as elimination )"
   ]
  },
  {
   "cell_type": "code",
   "execution_count": null,
   "id": "ebf26833",
   "metadata": {},
   "outputs": [],
   "source": [
    "df_False_1 = pd.DataFrame()\n",
    "df_False_1['Non-elimination'] = df_main_elimination.mean()\n",
    "df_False_1['Elimination'] = True_1.mean()\n",
    "df_False_1"
   ]
  },
  {
   "cell_type": "markdown",
   "id": "59ee6369",
   "metadata": {},
   "source": [
    "#### Box plots of non-elimination misidentified as elimination"
   ]
  },
  {
   "cell_type": "code",
   "execution_count": 42,
   "id": "f5195efe",
   "metadata": {},
   "outputs": [
    {
     "data": {
      "text/plain": [
       "Index(['duration', 'skewness', 'change_in_load', 'jerk', 'velocity', 'energy',\n",
       "       'power', 'momentum'],\n",
       "      dtype='object')"
      ]
     },
     "execution_count": 42,
     "metadata": {},
     "output_type": "execute_result"
    }
   ],
   "source": [
    "False_1 = False_1[['duration', 'skewness', 'change_in_load', 'jerk', 'velocity', 'energy', 'power','momentum']]\n",
    "False_1.columns"
   ]
  },
  {
   "cell_type": "code",
   "execution_count": 43,
   "id": "812ad1eb",
   "metadata": {},
   "outputs": [
    {
     "data": {
      "image/png": "[encoded data removed]",
      "text/plain": [
       "<Figure size 1440x720 with 8 Axes>"
      ]
     },
     "metadata": {
      "needs_background": "light"
     },
     "output_type": "display_data"
    }
   ],
   "source": [
    "#Creating subplot of each column with its own scale\n",
    "\n",
    "red_circle = dict(markerfacecolor='red', marker='o', markeredgecolor='white')\n",
    "\n",
    "fig, axs = plt.subplots(1, len(False_1.columns), figsize=(20,10))\n",
    "\n",
    "for i, ax in enumerate(axs.flat):\n",
    "    ax.boxplot(False_1.iloc[:,i], flierprops=red_circle)\n",
    "    ax.set_title(False_1.columns[i], fontsize=20, fontweight='bold')\n",
    "    ax.tick_params(axis='y', labelsize=14)\n",
    "    \n",
    "plt.tight_layout()"
   ]
  },
  {
   "cell_type": "markdown",
   "id": "9c21ce4d",
   "metadata": {},
   "source": [
    "#### Count of urination and defication among misidentified as elimination"
   ]
  },
  {
   "cell_type": "code",
   "execution_count": 62,
   "id": "7c09c960",
   "metadata": {},
   "outputs": [
    {
     "name": "stdout",
     "output_type": "stream",
     "text": [
      "Urination Rows : 0\n",
      "Defecation Rows : 98\n"
     ]
    }
   ],
   "source": [
    "# List of index number of misidentfied as non-elimination:\n",
    "index_list=list(False_1.index)\n",
    "\n",
    "# Activities of misiden#### Count of urination and defication among misidentified as non-eliminationtfied rows:\n",
    "df_main2=df_main1.copy()\n",
    "urination_count=0\n",
    "defecation_count=0\n",
    "for index in index_list:\n",
    "    if df_main2.loc[index]['activity']=='urination':\n",
    "        urination_count +=1\n",
    "    else:\n",
    "        defecation_count +=1\n",
    "print( 'Urination Rows : '+str(urination_count))\n",
    "print( 'Defecation Rows : '+str(defecation_count))"
   ]
  },
  {
   "cell_type": "markdown",
   "id": "c7a24395",
   "metadata": {},
   "source": [
    "#### ( Among the rows misidentified as elimination, all rows are of defecation )"
   ]
  },
  {
   "cell_type": "markdown",
   "id": "26818388",
   "metadata": {},
   "source": [
    "# # Insights"
   ]
  },
  {
   "cell_type": "markdown",
   "id": "69979d76",
   "metadata": {},
   "source": [
    "### 1. Rightly identifies as elimination"
   ]
  },
  {
   "cell_type": "code",
   "execution_count": 63,
   "id": "cbf49c9d",
   "metadata": {},
   "outputs": [
    {
     "data": {
      "text/plain": [
       "(1590, 12)"
      ]
     },
     "execution_count": 63,
     "metadata": {},
     "output_type": "execute_result"
    }
   ],
   "source": [
    "True_1 = x_test[(y_test == 1) & (y_test_pred[:].T == 1)]\n",
    "True_1.shape"
   ]
  },
  {
   "cell_type": "code",
   "execution_count": 64,
   "id": "204ebf98",
   "metadata": {
    "scrolled": true
   },
   "outputs": [
    {
     "data": {
      "text/plain": [
       "duration          130.256393\n",
       "change_in_load      0.613409\n",
       "variance            0.888816\n",
       "maximum            12.371922\n",
       "median              0.272940\n",
       "skewness            4.612479\n",
       "kurtosis           38.022990\n",
       "jerk                2.077376\n",
       "velocity           10.117668\n",
       "energy            428.541259\n",
       "power               6.197770\n",
       "momentum           49.157035\n",
       "dtype: float64"
      ]
     },
     "execution_count": 64,
     "metadata": {},
     "output_type": "execute_result"
    }
   ],
   "source": [
    "True_1.mean()"
   ]
  },
  {
   "cell_type": "markdown",
   "id": "a16c766b",
   "metadata": {},
   "source": [
    "### 2. Rightly identified as non-elimination"
   ]
  },
  {
   "cell_type": "code",
   "execution_count": 65,
   "id": "55322a5e",
   "metadata": {},
   "outputs": [
    {
     "data": {
      "text/plain": [
       "(1675, 12)"
      ]
     },
     "execution_count": 65,
     "metadata": {},
     "output_type": "execute_result"
    }
   ],
   "source": [
    "True_0 = x_test[(y_test == 0) & (y_test_pred[:].T == 0)]\n",
    "True_0.shape"
   ]
  },
  {
   "cell_type": "code",
   "execution_count": 66,
   "id": "78bf4b74",
   "metadata": {},
   "outputs": [
    {
     "data": {
      "text/plain": [
       "duration           76.532029\n",
       "change_in_load      0.453527\n",
       "variance            0.978880\n",
       "maximum            10.897905\n",
       "median              0.161505\n",
       "skewness            5.553959\n",
       "kurtosis           47.516762\n",
       "jerk                1.715799\n",
       "velocity            4.506241\n",
       "energy            106.985237\n",
       "power               1.956898\n",
       "momentum           20.969175\n",
       "dtype: float64"
      ]
     },
     "execution_count": 66,
     "metadata": {},
     "output_type": "execute_result"
    }
   ],
   "source": [
    "True_0.mean()"
   ]
  },
  {
   "cell_type": "markdown",
   "id": "1530d79a",
   "metadata": {},
   "source": [
    "#### Mean table of rightly identified activities"
   ]
  },
  {
   "cell_type": "code",
   "execution_count": 68,
   "id": "b9bc4456",
   "metadata": {},
   "outputs": [
    {
     "data": {
      "text/html": [
       "<div>\n",
       "<style scoped>\n",
       "    .dataframe tbody tr th:only-of-type {\n",
       "        vertical-align: middle;\n",
       "    }\n",
       "\n",
       "    .dataframe tbody tr th {\n",
       "        vertical-align: top;\n",
       "    }\n",
       "\n",
       "    .dataframe thead th {\n",
       "        text-align: right;\n",
       "    }\n",
       "</style>\n",
       "<table border=\"1\" class=\"dataframe\">\n",
       "  <thead>\n",
       "    <tr style=\"text-align: right;\">\n",
       "      <th></th>\n",
       "      <th>Non-elimination</th>\n",
       "      <th>Elimination</th>\n",
       "    </tr>\n",
       "  </thead>\n",
       "  <tbody>\n",
       "    <tr>\n",
       "      <th>duration</th>\n",
       "      <td>76.532029</td>\n",
       "      <td>130.256393</td>\n",
       "    </tr>\n",
       "    <tr>\n",
       "      <th>change_in_load</th>\n",
       "      <td>0.453527</td>\n",
       "      <td>0.613409</td>\n",
       "    </tr>\n",
       "    <tr>\n",
       "      <th>variance</th>\n",
       "      <td>0.978880</td>\n",
       "      <td>0.888816</td>\n",
       "    </tr>\n",
       "    <tr>\n",
       "      <th>maximum</th>\n",
       "      <td>10.897905</td>\n",
       "      <td>12.371922</td>\n",
       "    </tr>\n",
       "    <tr>\n",
       "      <th>median</th>\n",
       "      <td>0.161505</td>\n",
       "      <td>0.272940</td>\n",
       "    </tr>\n",
       "    <tr>\n",
       "      <th>skewness</th>\n",
       "      <td>5.553959</td>\n",
       "      <td>4.612479</td>\n",
       "    </tr>\n",
       "    <tr>\n",
       "      <th>kurtosis</th>\n",
       "      <td>47.516762</td>\n",
       "      <td>38.022990</td>\n",
       "    </tr>\n",
       "    <tr>\n",
       "      <th>jerk</th>\n",
       "      <td>1.715799</td>\n",
       "      <td>2.077376</td>\n",
       "    </tr>\n",
       "    <tr>\n",
       "      <th>velocity</th>\n",
       "      <td>4.506241</td>\n",
       "      <td>10.117668</td>\n",
       "    </tr>\n",
       "    <tr>\n",
       "      <th>energy</th>\n",
       "      <td>106.985237</td>\n",
       "      <td>428.541259</td>\n",
       "    </tr>\n",
       "    <tr>\n",
       "      <th>power</th>\n",
       "      <td>1.956898</td>\n",
       "      <td>6.197770</td>\n",
       "    </tr>\n",
       "    <tr>\n",
       "      <th>momentum</th>\n",
       "      <td>20.969175</td>\n",
       "      <td>49.157035</td>\n",
       "    </tr>\n",
       "  </tbody>\n",
       "</table>\n",
       "</div>"
      ],
      "text/plain": [
       "                Non-elimination  Elimination\n",
       "duration              76.532029   130.256393\n",
       "change_in_load         0.453527     0.613409\n",
       "variance               0.978880     0.888816\n",
       "maximum               10.897905    12.371922\n",
       "median                 0.161505     0.272940\n",
       "skewness               5.553959     4.612479\n",
       "kurtosis              47.516762    38.022990\n",
       "jerk                   1.715799     2.077376\n",
       "velocity               4.506241    10.117668\n",
       "energy               106.985237   428.541259\n",
       "power                  1.956898     6.197770\n",
       "momentum              20.969175    49.157035"
      ]
     },
     "execution_count": 68,
     "metadata": {},
     "output_type": "execute_result"
    }
   ],
   "source": [
    "df_insight = pd.DataFrame()\n",
    "df_insight['Non-elimination'] = True_0.mean()\n",
    "df_insight['Elimination'] = True_1.mean()\n",
    "df_insight"
   ]
  },
  {
   "cell_type": "code",
   "execution_count": null,
   "id": "b259f5ef",
   "metadata": {},
   "outputs": [],
   "source": []
  }
 ],
 "metadata": {
  "kernelspec": {
   "display_name": "Python 3 (ipykernel)",
   "language": "python",
   "name": "python3"
  },
  "language_info": {
   "codemirror_mode": {
    "name": "ipython",
    "version": 3
   },
   "file_extension": ".py",
   "mimetype": "text/x-python",
   "name": "python",
   "nbconvert_exporter": "python",
   "pygments_lexer": "ipython3",
   "version": "3.9.12"
  }
 },
 "nbformat": 4,
 "nbformat_minor": 5
}
