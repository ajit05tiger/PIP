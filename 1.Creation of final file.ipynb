{
 "cells": [
  {
   "cell_type": "code",
   "execution_count": 1,
   "id": "dc533816",
   "metadata": {},
   "outputs": [],
   "source": [
    "import pandas as pd\n",
    "import numpy as np\n",
    "import os\n",
    "import glob"
   ]
  },
  {
   "cell_type": "markdown",
   "id": "8d9db1ab",
   "metadata": {},
   "source": [
    "## 1. Renaming files with it's activity:"
   ]
  },
  {
   "cell_type": "markdown",
   "id": "2e3d2f0f",
   "metadata": {
    "collapsed": true
   },
   "source": [
    "### i. Creating a list with all folders name"
   ]
  },
  {
   "cell_type": "code",
   "execution_count": 1,
   "id": "e31b8f96",
   "metadata": {
    "scrolled": true
   },
   "outputs": [],
   "source": [
    "rootdir = \"D:/Ajit/pip/Raw_data\"\n",
    "folder_list = []\n",
    "for subdir, dirs, files in os.walk(rootdir):\n",
    "    folder_list.append(subdir)\n",
    "del folder_list[0]\n",
    "folder_list"
   ]
  },
  {
   "cell_type": "markdown",
   "id": "9276e62c",
   "metadata": {},
   "source": [
    "### ii. Changing files name to its activity inside all folders"
   ]
  },
  {
   "cell_type": "code",
   "execution_count": 2,
   "id": "926b7b2f",
   "metadata": {},
   "outputs": [],
   "source": [
    "for loc_folder in folder_list:\n",
    "    ne=0        # Non-elimination\n",
    "    ur=0        # Urination\n",
    "    df=0        # Defecation\n",
    "    os.chdir(loc_folder)\n",
    "    for FileList in glob.glob('*.json'):\n",
    "        loc_json=loc_folder+'/'+FileList\n",
    "        tag=''\n",
    "        df_json=pd.read_json(loc_json,lines=True)\n",
    "        # These are the activities we are interested in:\n",
    "        activities = ['non_elimination', 'urination', 'defecation']\n",
    "        for val in df_json['Tags'][0]:\n",
    "            if val in activities:\n",
    "                tag=val\n",
    "                \n",
    "                if tag=='non_elimination':\n",
    "                    ne+=1\n",
    "                    new_name_csv =tag +str(ne)+ \".csv\"\n",
    "                    my_source_csv =loc_json.replace('json','csv')\n",
    "                    my_dest_csv =loc_folder +('/')+ new_name_csv\n",
    "                    os.rename(my_source_csv, my_dest_csv)\n",
    "                    print(my_dest_csv)\n",
    "\n",
    "                    new_name_json = tag +str(ne)+ \".json\"\n",
    "                    my_source_json = loc_json\n",
    "                    my_dest_json = loc_folder +('/')+ new_name_json\n",
    "                    os.rename(my_source_json, my_dest_json)  \n",
    "\n",
    "\n",
    "                elif tag=='urination':\n",
    "                    ur+=1\n",
    "                    new_name_csv =tag +str(ur)+ \".csv\"\n",
    "                    my_source_csv =loc_json.replace('json','csv')\n",
    "                    my_dest_csv =loc_folder +('/')+ new_name_csv\n",
    "                    os.rename(my_source_csv, my_dest_csv)\n",
    "                    print(my_dest_csv)\n",
    "    \n",
    "                    new_name_json = tag +str(ur)+ \".json\"\n",
    "                    my_source_json = loc_json\n",
    "                    my_dest_json = loc_folder +('/')+ new_name_json\n",
    "                    os.rename(my_source_json, my_dest_json)\n",
    "\n",
    "\n",
    "                else:\n",
    "                    df+=1\n",
    "                    new_name_csv =tag +str(df)+ \".csv\"\n",
    "                    my_source_csv =loc_json.replace('json','csv')\n",
    "                    my_dest_csv =loc_folder +('/')+ new_name_csv\n",
    "                    os.rename(my_source_csv, my_dest_csv)\n",
    "                    print(my_dest_csv)\n",
    "\n",
    "                    new_name_json = tag +str(df)+ \".json\"\n",
    "                    my_source_json = loc_json\n",
    "                    my_dest_json = loc_folder +('/')+ new_name_json\n",
    "                    os.rename(my_source_json, my_dest_json)               \n",
    "                \n",
    "            else:\n",
    "                continue"
   ]
  },
  {
   "cell_type": "markdown",
   "id": "d03ea8a6",
   "metadata": {},
   "source": [
    "## 2. Creation of new csv files with outlier Treatment and all features"
   ]
  },
  {
   "cell_type": "code",
   "execution_count": 4,
   "id": "bc3faeb8",
   "metadata": {},
   "outputs": [],
   "source": [
    "import os\n",
    "rootdir = \"D:/Ajit/pip/Raw_data/\"\n",
    "folder_list = []\n",
    "for subdir, dirs, files in os.walk(rootdir):\n",
    "    folder_list.append(subdir)\n",
    "del folder_list[0]"
   ]
  },
  {
   "cell_type": "markdown",
   "id": "08dfba7e",
   "metadata": {},
   "source": [
    "### i. Creating empty folder with folder numbers:"
   ]
  },
  {
   "cell_type": "code",
   "execution_count": 5,
   "id": "82d5158c",
   "metadata": {},
   "outputs": [],
   "source": [
    "for path in folder_list:\n",
    "    path=path.replace('Raw_data','sample_labeled9')\n",
    "    os.mkdir(path)"
   ]
  },
  {
   "cell_type": "markdown",
   "id": "6281332e",
   "metadata": {},
   "source": [
    "### ii. Outlier treatment with flooring & capping:"
   ]
  },
  {
   "cell_type": "code",
   "execution_count": 6,
   "id": "14310c59",
   "metadata": {},
   "outputs": [],
   "source": [
    "def outlier_capping(col_name):\n",
    "    Q1 = 0\n",
    "    Q3 = df[col_name].quantile(0.98)\n",
    "    IQR = Q3\n",
    "     \n",
    "    upper_bound = Q3 + 3.5 * IQR   # Whisker width is 3.5\n",
    "    no_upper_outlier=len(df[df[col_name]>upper_bound])\n",
    "    print(\"number of outlier: \"+str(no_upper_outlier))\n",
    "    df[col_name]=np.where(df[col_name]>upper_bound,upper_bound,df[col_name])"
   ]
  },
  {
   "cell_type": "markdown",
   "id": "67ed9663",
   "metadata": {},
   "source": [
    "### iii. creating new csv files in created folders with outlier treatment and new features:\n",
    "#### 1.Differential load\n",
    "#### 2. Sum of absolute value of differential load\n",
    "#### 3. Acceleration\n",
    "#### 4. Velocity\n",
    "#### 5. Energy\n",
    "#### 6. Power\n",
    "#### 7. Momentum"
   ]
  },
  {
   "cell_type": "code",
   "execution_count": 3,
   "id": "ae0ac16c",
   "metadata": {},
   "outputs": [],
   "source": [
    "for folder in folder_list:\n",
    "    path=folder\n",
    "\n",
    "    for filename in os.listdir(path):\n",
    "        x=path+'/'+filename\n",
    "        if filename.endswith(\".csv\"):\n",
    "#             print(x) # Print this if you want to track which folder is running while running the code\n",
    "            df=pd.read_csv(x)\n",
    "            df_json=pd.read_json(x.replace('csv','json'),lines=True)\n",
    "# Name, Weight, Start time\n",
    "            df['name'] = df_json['Name_of_cat'][0]\n",
    "            df['weight'] = df_json['Weight_of_cat'][0]\n",
    "            df['start_time'] = df_json['Event_start_time'][0]\n",
    "# Activity\n",
    "            activities = ['non_elimination', 'urination', 'defecation']\n",
    "            tag=\"\"\n",
    "            for val in df_json['Tags'][0]:\n",
    "                if val in activities:\n",
    "                    tag=val\n",
    "\n",
    "            df['activity']=tag\n",
    "\n",
    "# difference of load from it's previous load (incremental or decremental load) and converted to abslolute value\n",
    "            df['diff_lc0'] = df['lc0'].diff().abs()\n",
    "            df['diff_lc1'] = df['lc1'].diff().abs()\n",
    "            df['diff_lc2'] = df['lc2'].diff().abs()\n",
    "            df['diff_lc3'] = df['lc3'].diff().abs()\n",
    "            \n",
    "# sum of all the loads as in aggregated datasheet all the load sensor's are corelated so we will work with only sum of all load sensor's differential value\n",
    "# converting force to newton. It was in gm. Devide with 1000 to convert in kg. Then multiply with g=9.81 to convert it in Newton\n",
    "            df['diff_load_sum'] = (df['diff_lc0']+df['diff_lc1']+df['diff_lc2']+df['diff_lc3'])*(9.81/1000)\n",
    "            \n",
    "# Outlier treatment with Q1=0 (because all differential valus are converted to absolute), Q3=0.98 quantile and whisker width = 3.5 and \n",
    "            outlier_capping('diff_load_sum')\n",
    "\n",
    "# w = Weight of cat in kg\n",
    "            w = (df_json['Weight_of_cat'][0])/1000\n",
    "    \n",
    "## Force = Mass * Acceleration\n",
    "## Acceleration (a) = Force / Weight of cat (w)\n",
    "            df['acc']= df['diff_load_sum'].apply(lambda x: x/w)\n",
    "    \n",
    "## Jerk = (a2-a1)/0.025         (+ve jerk means jerk felt while acceleration, and _ve jerk means jerk felt while deceleration. We focus only on jerk so, convert it to absolute.)\n",
    "            df['jerk']= ((df['acc'].diff())/0.025).abs()\n",
    "\n",
    "## Velocity, v2 = (a1*t) + v1\n",
    "            df['velo'] = 0\n",
    "            for i in range (1,len(df)):\n",
    "                df['velo'][i]=(df['acc'][i]*0.025)+(df['velo'][i-1])              \n",
    "\n",
    "## Energy in Joule (Kinetic Energy), e = 0.5(w*v**2)       \n",
    "            df['enr']= df['velo'].apply(lambda x: 0.5*w*(x**2))\n",
    "\n",
    "## Power in watt = Force * Velocity       \n",
    "            df['power']= df['velo']*df['diff_load_sum']\n",
    "\n",
    "## Momentum = Mass * Velocity\n",
    "            df['mom']=w*df['velo']\n",
    "\n",
    "            filename = x\n",
    "            filename=filename.replace('Raw_data','sample_labeled9')\n",
    "\n",
    "            df.to_csv(filename)"
   ]
  },
  {
   "cell_type": "markdown",
   "id": "e2f3889f",
   "metadata": {},
   "source": [
    "## 3. Creation of Final csv file:\n",
    "#### Following are the columns:\n",
    "#### 1. Name\n",
    "#### 2. Activity\n",
    "#### 3. Weight\n",
    "#### 4. Duration \n",
    "#### 5. Event time\n",
    "#### 6. mean of \"change in load\"\n",
    "#### 7. Varience\n",
    "#### 8. Maximum value\n",
    "#### 9. Skewness\n",
    "#### 10. Kurtosis\n",
    "#### 11. 90th percentile\n",
    "#### 12. Acceleration\n",
    "#### 13. Jerk\n",
    "#### 14. Velocity\n",
    "#### 15. Energy\n",
    "#### 16. Power\n",
    "#### 17. Momentum"
   ]
  },
  {
   "cell_type": "markdown",
   "id": "6567df5a",
   "metadata": {},
   "source": [
    "### i. Creating main csv file with all features name"
   ]
  },
  {
   "cell_type": "code",
   "execution_count": 8,
   "id": "4a5abea9",
   "metadata": {},
   "outputs": [
    {
     "data": {
      "text/html": [
       "<div>\n",
       "<style scoped>\n",
       "    .dataframe tbody tr th:only-of-type {\n",
       "        vertical-align: middle;\n",
       "    }\n",
       "\n",
       "    .dataframe tbody tr th {\n",
       "        vertical-align: top;\n",
       "    }\n",
       "\n",
       "    .dataframe thead th {\n",
       "        text-align: right;\n",
       "    }\n",
       "</style>\n",
       "<table border=\"1\" class=\"dataframe\">\n",
       "  <thead>\n",
       "    <tr style=\"text-align: right;\">\n",
       "      <th></th>\n",
       "      <th>name</th>\n",
       "      <th>activity</th>\n",
       "      <th>weight</th>\n",
       "      <th>duration</th>\n",
       "      <th>start_time</th>\n",
       "      <th>change_in_load</th>\n",
       "      <th>variance</th>\n",
       "      <th>maximum</th>\n",
       "      <th>median</th>\n",
       "      <th>skewness</th>\n",
       "      <th>kurtosis</th>\n",
       "      <th>0.9_quantile</th>\n",
       "      <th>acceleration</th>\n",
       "      <th>jerk</th>\n",
       "      <th>velocity</th>\n",
       "      <th>energy</th>\n",
       "      <th>power</th>\n",
       "      <th>momentum</th>\n",
       "    </tr>\n",
       "  </thead>\n",
       "  <tbody>\n",
       "  </tbody>\n",
       "</table>\n",
       "</div>"
      ],
      "text/plain": [
       "Empty DataFrame\n",
       "Columns: [name, activity, weight, duration, start_time, change_in_load, variance, maximum, median, skewness, kurtosis, 0.9_quantile, acceleration, jerk, velocity, energy, power, momentum]\n",
       "Index: []"
      ]
     },
     "execution_count": 8,
     "metadata": {},
     "output_type": "execute_result"
    }
   ],
   "source": [
    "df_main = pd.DataFrame(columns = ['name' ,'activity' ,'weight', 'duration','start_time' ,'change_in_load', 'variance',  'maximum', 'median', 'skewness', 'kurtosis', '0.9_quantile', 'acceleration', 'jerk', 'velocity', 'energy', 'power', 'momentum'])\n",
    "df_main"
   ]
  },
  {
   "cell_type": "markdown",
   "id": "2c53a9d7",
   "metadata": {},
   "source": [
    "### ii. Inserting all featurs value in main csv file"
   ]
  },
  {
   "cell_type": "code",
   "execution_count": 9,
   "id": "2e73e9bd",
   "metadata": {},
   "outputs": [],
   "source": [
    "def value_insertion(loc_csv):\n",
    "    df=pd.read_csv(loc_csv)\n",
    "    print(loc_csv)\n",
    "    df_main.loc[len(df_main.index)] = [df['name'][0], df['activity'][0], df['weight'][0], df['timestamp'][len(df)-1], df['start_time'][0], df['diff_load_sum'].mean(), df['diff_load_sum'].var(), df['diff_load_sum'].max(), df['diff_load_sum'].median(), df['diff_load_sum'].skew(), df['diff_load_sum'].kurtosis(), df['diff_load_sum'].quantile(0.9), df['acc'].mean(), df['jerk'].mean(), df['velo'].mean(), df['enr'].mean(), df['power'].mean(), df['mom'].mean()]\n",
    "    return df_main"
   ]
  },
  {
   "cell_type": "code",
   "execution_count": 10,
   "id": "edc0049f",
   "metadata": {},
   "outputs": [],
   "source": [
    "rootdir = \"D:/Ajit/pip/sample_labeled9\"\n",
    "folder_list = []\n",
    "for subdir, dirs, files in os.walk(rootdir):\n",
    "    folder_list.append(subdir)\n",
    "del folder_list[0]"
   ]
  },
  {
   "cell_type": "code",
   "execution_count": 4,
   "id": "3ad79ddd",
   "metadata": {
    "scrolled": true
   },
   "outputs": [],
   "source": [
    "i=0\n",
    "for folder in folder_list:\n",
    "    path=folder\n",
    "    for filename in os.listdir(path):\n",
    "        x=path+'/'+filename\n",
    "#         print(i)  # Print this if you want to track which folder is running while running the code\n",
    "        value_insertion(x)\n",
    "        i+=1"
   ]
  },
  {
   "cell_type": "markdown",
   "id": "d6847d43",
   "metadata": {},
   "source": [
    "### iii. Final Data"
   ]
  },
  {
   "cell_type": "code",
   "execution_count": 12,
   "id": "67a5321a",
   "metadata": {},
   "outputs": [
    {
     "data": {
      "text/html": [
       "<div>\n",
       "<style scoped>\n",
       "    .dataframe tbody tr th:only-of-type {\n",
       "        vertical-align: middle;\n",
       "    }\n",
       "\n",
       "    .dataframe tbody tr th {\n",
       "        vertical-align: top;\n",
       "    }\n",
       "\n",
       "    .dataframe thead th {\n",
       "        text-align: right;\n",
       "    }\n",
       "</style>\n",
       "<table border=\"1\" class=\"dataframe\">\n",
       "  <thead>\n",
       "    <tr style=\"text-align: right;\">\n",
       "      <th></th>\n",
       "      <th>name</th>\n",
       "      <th>activity</th>\n",
       "      <th>weight</th>\n",
       "      <th>duration</th>\n",
       "      <th>start_time</th>\n",
       "      <th>change_in_load</th>\n",
       "      <th>variance</th>\n",
       "      <th>maximum</th>\n",
       "      <th>median</th>\n",
       "      <th>skewness</th>\n",
       "      <th>kurtosis</th>\n",
       "      <th>0.9_quantile</th>\n",
       "      <th>acceleration</th>\n",
       "      <th>jerk</th>\n",
       "      <th>velocity</th>\n",
       "      <th>energy</th>\n",
       "      <th>power</th>\n",
       "      <th>momentum</th>\n",
       "    </tr>\n",
       "  </thead>\n",
       "  <tbody>\n",
       "    <tr>\n",
       "      <th>0</th>\n",
       "      <td>Ryan</td>\n",
       "      <td>defecation</td>\n",
       "      <td>6933</td>\n",
       "      <td>163.975000</td>\n",
       "      <td>2020-08-06 10:08:05-05:00</td>\n",
       "      <td>1.114670</td>\n",
       "      <td>2.425972</td>\n",
       "      <td>14.11659</td>\n",
       "      <td>0.43164</td>\n",
       "      <td>2.088879</td>\n",
       "      <td>5.125106</td>\n",
       "      <td>3.23730</td>\n",
       "      <td>0.160777</td>\n",
       "      <td>2.623752</td>\n",
       "      <td>18.629980</td>\n",
       "      <td>1422.404601</td>\n",
       "      <td>14.699895</td>\n",
       "      <td>129.161654</td>\n",
       "    </tr>\n",
       "    <tr>\n",
       "      <th>1</th>\n",
       "      <td>Ryan</td>\n",
       "      <td>defecation</td>\n",
       "      <td>6451</td>\n",
       "      <td>204.774940</td>\n",
       "      <td>2020-09-08 04:32:58-05:00</td>\n",
       "      <td>0.996088</td>\n",
       "      <td>2.262248</td>\n",
       "      <td>19.98297</td>\n",
       "      <td>0.32373</td>\n",
       "      <td>2.502551</td>\n",
       "      <td>9.150935</td>\n",
       "      <td>3.06072</td>\n",
       "      <td>0.154408</td>\n",
       "      <td>2.854197</td>\n",
       "      <td>20.030623</td>\n",
       "      <td>1626.238512</td>\n",
       "      <td>15.753942</td>\n",
       "      <td>129.217548</td>\n",
       "    </tr>\n",
       "    <tr>\n",
       "      <th>2</th>\n",
       "      <td>Ryan</td>\n",
       "      <td>defecation</td>\n",
       "      <td>7240</td>\n",
       "      <td>59.975000</td>\n",
       "      <td>2020-07-16 23:03:12-05:00</td>\n",
       "      <td>0.292591</td>\n",
       "      <td>0.218968</td>\n",
       "      <td>4.16925</td>\n",
       "      <td>0.05886</td>\n",
       "      <td>2.892435</td>\n",
       "      <td>11.742110</td>\n",
       "      <td>0.87309</td>\n",
       "      <td>0.040413</td>\n",
       "      <td>0.638543</td>\n",
       "      <td>1.792097</td>\n",
       "      <td>13.463229</td>\n",
       "      <td>0.355113</td>\n",
       "      <td>12.974780</td>\n",
       "    </tr>\n",
       "    <tr>\n",
       "      <th>3</th>\n",
       "      <td>Ryan</td>\n",
       "      <td>defecation</td>\n",
       "      <td>7124</td>\n",
       "      <td>156.775000</td>\n",
       "      <td>2020-08-01 10:19:24-05:00</td>\n",
       "      <td>0.952895</td>\n",
       "      <td>2.215583</td>\n",
       "      <td>12.43908</td>\n",
       "      <td>0.23544</td>\n",
       "      <td>2.385345</td>\n",
       "      <td>6.859419</td>\n",
       "      <td>2.95281</td>\n",
       "      <td>0.133758</td>\n",
       "      <td>2.379447</td>\n",
       "      <td>14.293334</td>\n",
       "      <td>898.360000</td>\n",
       "      <td>9.996573</td>\n",
       "      <td>101.825709</td>\n",
       "    </tr>\n",
       "    <tr>\n",
       "      <th>4</th>\n",
       "      <td>Ryan</td>\n",
       "      <td>defecation</td>\n",
       "      <td>7150</td>\n",
       "      <td>183.974939</td>\n",
       "      <td>2020-08-12 10:37:19-05:00</td>\n",
       "      <td>1.174555</td>\n",
       "      <td>3.997131</td>\n",
       "      <td>15.75486</td>\n",
       "      <td>0.14715</td>\n",
       "      <td>2.486553</td>\n",
       "      <td>7.492540</td>\n",
       "      <td>3.96324</td>\n",
       "      <td>0.164273</td>\n",
       "      <td>2.929181</td>\n",
       "      <td>21.458935</td>\n",
       "      <td>2029.562636</td>\n",
       "      <td>17.758225</td>\n",
       "      <td>153.431382</td>\n",
       "    </tr>\n",
       "  </tbody>\n",
       "</table>\n",
       "</div>"
      ],
      "text/plain": [
       "   name    activity  weight    duration                 start_time  \\\n",
       "0  Ryan  defecation    6933  163.975000  2020-08-06 10:08:05-05:00   \n",
       "1  Ryan  defecation    6451  204.774940  2020-09-08 04:32:58-05:00   \n",
       "2  Ryan  defecation    7240   59.975000  2020-07-16 23:03:12-05:00   \n",
       "3  Ryan  defecation    7124  156.775000  2020-08-01 10:19:24-05:00   \n",
       "4  Ryan  defecation    7150  183.974939  2020-08-12 10:37:19-05:00   \n",
       "\n",
       "   change_in_load  variance   maximum   median  skewness   kurtosis  \\\n",
       "0        1.114670  2.425972  14.11659  0.43164  2.088879   5.125106   \n",
       "1        0.996088  2.262248  19.98297  0.32373  2.502551   9.150935   \n",
       "2        0.292591  0.218968   4.16925  0.05886  2.892435  11.742110   \n",
       "3        0.952895  2.215583  12.43908  0.23544  2.385345   6.859419   \n",
       "4        1.174555  3.997131  15.75486  0.14715  2.486553   7.492540   \n",
       "\n",
       "   0.9_quantile  acceleration      jerk   velocity       energy      power  \\\n",
       "0       3.23730      0.160777  2.623752  18.629980  1422.404601  14.699895   \n",
       "1       3.06072      0.154408  2.854197  20.030623  1626.238512  15.753942   \n",
       "2       0.87309      0.040413  0.638543   1.792097    13.463229   0.355113   \n",
       "3       2.95281      0.133758  2.379447  14.293334   898.360000   9.996573   \n",
       "4       3.96324      0.164273  2.929181  21.458935  2029.562636  17.758225   \n",
       "\n",
       "     momentum  \n",
       "0  129.161654  \n",
       "1  129.217548  \n",
       "2   12.974780  \n",
       "3  101.825709  \n",
       "4  153.431382  "
      ]
     },
     "execution_count": 12,
     "metadata": {},
     "output_type": "execute_result"
    }
   ],
   "source": [
    "df_main.head()"
   ]
  },
  {
   "cell_type": "markdown",
   "id": "6a66941a",
   "metadata": {},
   "source": [
    "## 4. Adding a column in final data sheet if required:"
   ]
  },
  {
   "cell_type": "code",
   "execution_count": null,
   "id": "7479ee24",
   "metadata": {},
   "outputs": [],
   "source": [
    "rootdir = 'C:/Users/ajit.mishra/Downloads/practice/sample/'\n",
    "folder_list = []\n",
    "for subdir, dirs, files in os.walk(rootdir):\n",
    "    folder_list.append(subdir)\n",
    "del folder_list[0]"
   ]
  },
  {
   "cell_type": "code",
   "execution_count": null,
   "id": "1d72bac7",
   "metadata": {},
   "outputs": [],
   "source": [
    "new_name = input('Enter new column name: ')\n",
    "used_name = input('Enter the name of used column: ')\n",
    "df_main[new_name] = \"\"\n",
    "i=0\n",
    "for loc_folder in folder_list:\n",
    "    os.chdir(loc_folder)\n",
    "    for FileList in glob.glob('*.csv'):\n",
    "        loc_csv=loc_folder+'/'+FileList\n",
    "        print(loc_csv)\n",
    "        df_csv=pd.read_csv(loc_csv)\n",
    "        val = df_csv[used_name].max()\n",
    "        print(val)\n",
    "        df_main.loc[i,new_name]=val\n",
    "        print(i)\n",
    "        i+=1"
   ]
  }
 ],
 "metadata": {
  "kernelspec": {
   "display_name": "Python 3 (ipykernel)",
   "language": "python",
   "name": "python3"
  },
  "language_info": {
   "codemirror_mode": {
    "name": "ipython",
    "version": 3
   },
   "file_extension": ".py",
   "mimetype": "text/x-python",
   "name": "python",
   "nbconvert_exporter": "python",
   "pygments_lexer": "ipython3",
   "version": "3.9.12"
  }
 },
 "nbformat": 4,
 "nbformat_minor": 5
}
